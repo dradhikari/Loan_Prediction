{
 "cells": [
  {
   "cell_type": "code",
   "execution_count": 1,
   "id": "fd1354ee-e9cb-401d-8588-60a51e0d7e18",
   "metadata": {},
   "outputs": [],
   "source": [
    "# Importing some important librarys\n",
    "import pandas as pd\n",
    "import numpy as np\n",
    "import matplotlib.pyplot as plt\n",
    "import seaborn as sns\n",
    "import warnings\n",
    "warnings.filterwarnings('ignore')"
   ]
  },
  {
   "cell_type": "code",
   "execution_count": 2,
   "id": "533cac15-9419-4617-833a-3deaedea93ea",
   "metadata": {},
   "outputs": [],
   "source": [
    "df = pd.read_csv(r'train_data.csv')"
   ]
  },
  {
   "cell_type": "code",
   "execution_count": 3,
   "id": "cbfe47ff-4482-4e2f-a734-b8786197b372",
   "metadata": {},
   "outputs": [
    {
     "data": {
      "text/html": [
       "<div>\n",
       "<style scoped>\n",
       "    .dataframe tbody tr th:only-of-type {\n",
       "        vertical-align: middle;\n",
       "    }\n",
       "\n",
       "    .dataframe tbody tr th {\n",
       "        vertical-align: top;\n",
       "    }\n",
       "\n",
       "    .dataframe thead th {\n",
       "        text-align: right;\n",
       "    }\n",
       "</style>\n",
       "<table border=\"1\" class=\"dataframe\">\n",
       "  <thead>\n",
       "    <tr style=\"text-align: right;\">\n",
       "      <th></th>\n",
       "      <th>Loan_ID</th>\n",
       "      <th>Gender</th>\n",
       "      <th>Married</th>\n",
       "      <th>Dependents</th>\n",
       "      <th>Education</th>\n",
       "      <th>Self_Employed</th>\n",
       "      <th>ApplicantIncome</th>\n",
       "      <th>CoapplicantIncome</th>\n",
       "      <th>LoanAmount</th>\n",
       "      <th>Loan_Amount_Term</th>\n",
       "      <th>Credit_History</th>\n",
       "      <th>Property_Area</th>\n",
       "      <th>Loan_Status</th>\n",
       "    </tr>\n",
       "  </thead>\n",
       "  <tbody>\n",
       "    <tr>\n",
       "      <th>0</th>\n",
       "      <td>LP001002</td>\n",
       "      <td>Male</td>\n",
       "      <td>No</td>\n",
       "      <td>0</td>\n",
       "      <td>Graduate</td>\n",
       "      <td>No</td>\n",
       "      <td>5849</td>\n",
       "      <td>0.0</td>\n",
       "      <td>NaN</td>\n",
       "      <td>360.0</td>\n",
       "      <td>1.0</td>\n",
       "      <td>Urban</td>\n",
       "      <td>Y</td>\n",
       "    </tr>\n",
       "    <tr>\n",
       "      <th>1</th>\n",
       "      <td>LP001003</td>\n",
       "      <td>Male</td>\n",
       "      <td>Yes</td>\n",
       "      <td>1</td>\n",
       "      <td>Graduate</td>\n",
       "      <td>No</td>\n",
       "      <td>4583</td>\n",
       "      <td>1508.0</td>\n",
       "      <td>128.0</td>\n",
       "      <td>360.0</td>\n",
       "      <td>1.0</td>\n",
       "      <td>Rural</td>\n",
       "      <td>N</td>\n",
       "    </tr>\n",
       "    <tr>\n",
       "      <th>2</th>\n",
       "      <td>LP001005</td>\n",
       "      <td>Male</td>\n",
       "      <td>Yes</td>\n",
       "      <td>0</td>\n",
       "      <td>Graduate</td>\n",
       "      <td>Yes</td>\n",
       "      <td>3000</td>\n",
       "      <td>0.0</td>\n",
       "      <td>66.0</td>\n",
       "      <td>360.0</td>\n",
       "      <td>1.0</td>\n",
       "      <td>Urban</td>\n",
       "      <td>Y</td>\n",
       "    </tr>\n",
       "    <tr>\n",
       "      <th>3</th>\n",
       "      <td>LP001006</td>\n",
       "      <td>Male</td>\n",
       "      <td>Yes</td>\n",
       "      <td>0</td>\n",
       "      <td>Not Graduate</td>\n",
       "      <td>No</td>\n",
       "      <td>2583</td>\n",
       "      <td>2358.0</td>\n",
       "      <td>120.0</td>\n",
       "      <td>360.0</td>\n",
       "      <td>1.0</td>\n",
       "      <td>Urban</td>\n",
       "      <td>Y</td>\n",
       "    </tr>\n",
       "    <tr>\n",
       "      <th>4</th>\n",
       "      <td>LP001008</td>\n",
       "      <td>Male</td>\n",
       "      <td>No</td>\n",
       "      <td>0</td>\n",
       "      <td>Graduate</td>\n",
       "      <td>No</td>\n",
       "      <td>6000</td>\n",
       "      <td>0.0</td>\n",
       "      <td>141.0</td>\n",
       "      <td>360.0</td>\n",
       "      <td>1.0</td>\n",
       "      <td>Urban</td>\n",
       "      <td>Y</td>\n",
       "    </tr>\n",
       "  </tbody>\n",
       "</table>\n",
       "</div>"
      ],
      "text/plain": [
       "    Loan_ID Gender Married Dependents     Education Self_Employed  \\\n",
       "0  LP001002   Male      No          0      Graduate            No   \n",
       "1  LP001003   Male     Yes          1      Graduate            No   \n",
       "2  LP001005   Male     Yes          0      Graduate           Yes   \n",
       "3  LP001006   Male     Yes          0  Not Graduate            No   \n",
       "4  LP001008   Male      No          0      Graduate            No   \n",
       "\n",
       "   ApplicantIncome  CoapplicantIncome  LoanAmount  Loan_Amount_Term  \\\n",
       "0             5849                0.0         NaN             360.0   \n",
       "1             4583             1508.0       128.0             360.0   \n",
       "2             3000                0.0        66.0             360.0   \n",
       "3             2583             2358.0       120.0             360.0   \n",
       "4             6000                0.0       141.0             360.0   \n",
       "\n",
       "   Credit_History Property_Area Loan_Status  \n",
       "0             1.0         Urban           Y  \n",
       "1             1.0         Rural           N  \n",
       "2             1.0         Urban           Y  \n",
       "3             1.0         Urban           Y  \n",
       "4             1.0         Urban           Y  "
      ]
     },
     "execution_count": 3,
     "metadata": {},
     "output_type": "execute_result"
    }
   ],
   "source": [
    "df.head()"
   ]
  },
  {
   "cell_type": "code",
   "execution_count": null,
   "id": "a51857d8-e994-4a68-9ecd-6144782dee38",
   "metadata": {},
   "outputs": [],
   "source": []
  },
  {
   "cell_type": "code",
   "execution_count": 4,
   "id": "01e0a94d-587d-437a-ac38-e6a5a11d2694",
   "metadata": {},
   "outputs": [
    {
     "data": {
      "text/plain": [
       "(614, 13)"
      ]
     },
     "execution_count": 4,
     "metadata": {},
     "output_type": "execute_result"
    }
   ],
   "source": [
    "df.shape"
   ]
  },
  {
   "cell_type": "code",
   "execution_count": 5,
   "id": "76b73460-963d-40cc-bc3f-5cc3230b5464",
   "metadata": {},
   "outputs": [
    {
     "name": "stdout",
     "output_type": "stream",
     "text": [
      "Training set: (614, 13)\n"
     ]
    }
   ],
   "source": [
    "print(f\"Training set: {df.shape}\")"
   ]
  },
  {
   "cell_type": "code",
   "execution_count": 6,
   "id": "fe42b20c-cbbe-4fa3-b65e-0e5031f96e0b",
   "metadata": {},
   "outputs": [
    {
     "name": "stdout",
     "output_type": "stream",
     "text": [
      "<class 'pandas.core.frame.DataFrame'>\n",
      "RangeIndex: 614 entries, 0 to 613\n",
      "Data columns (total 13 columns):\n",
      " #   Column             Non-Null Count  Dtype  \n",
      "---  ------             --------------  -----  \n",
      " 0   Loan_ID            614 non-null    object \n",
      " 1   Gender             601 non-null    object \n",
      " 2   Married            611 non-null    object \n",
      " 3   Dependents         599 non-null    object \n",
      " 4   Education          614 non-null    object \n",
      " 5   Self_Employed      582 non-null    object \n",
      " 6   ApplicantIncome    614 non-null    int64  \n",
      " 7   CoapplicantIncome  614 non-null    float64\n",
      " 8   LoanAmount         592 non-null    float64\n",
      " 9   Loan_Amount_Term   600 non-null    float64\n",
      " 10  Credit_History     564 non-null    float64\n",
      " 11  Property_Area      614 non-null    object \n",
      " 12  Loan_Status        614 non-null    object \n",
      "dtypes: float64(4), int64(1), object(8)\n",
      "memory usage: 62.5+ KB\n"
     ]
    }
   ],
   "source": [
    "df.info()"
   ]
  },
  {
   "cell_type": "code",
   "execution_count": 7,
   "id": "1daa9153-e493-49e2-8d7c-7f02e56b2b05",
   "metadata": {},
   "outputs": [
    {
     "data": {
      "text/html": [
       "<div>\n",
       "<style scoped>\n",
       "    .dataframe tbody tr th:only-of-type {\n",
       "        vertical-align: middle;\n",
       "    }\n",
       "\n",
       "    .dataframe tbody tr th {\n",
       "        vertical-align: top;\n",
       "    }\n",
       "\n",
       "    .dataframe thead th {\n",
       "        text-align: right;\n",
       "    }\n",
       "</style>\n",
       "<table border=\"1\" class=\"dataframe\">\n",
       "  <thead>\n",
       "    <tr style=\"text-align: right;\">\n",
       "      <th></th>\n",
       "      <th>ApplicantIncome</th>\n",
       "      <th>CoapplicantIncome</th>\n",
       "      <th>LoanAmount</th>\n",
       "      <th>Loan_Amount_Term</th>\n",
       "      <th>Credit_History</th>\n",
       "    </tr>\n",
       "  </thead>\n",
       "  <tbody>\n",
       "    <tr>\n",
       "      <th>count</th>\n",
       "      <td>614.000000</td>\n",
       "      <td>614.000000</td>\n",
       "      <td>592.000000</td>\n",
       "      <td>600.00000</td>\n",
       "      <td>564.000000</td>\n",
       "    </tr>\n",
       "    <tr>\n",
       "      <th>mean</th>\n",
       "      <td>5403.459283</td>\n",
       "      <td>1621.245798</td>\n",
       "      <td>146.412162</td>\n",
       "      <td>342.00000</td>\n",
       "      <td>0.842199</td>\n",
       "    </tr>\n",
       "    <tr>\n",
       "      <th>std</th>\n",
       "      <td>6109.041673</td>\n",
       "      <td>2926.248369</td>\n",
       "      <td>85.587325</td>\n",
       "      <td>65.12041</td>\n",
       "      <td>0.364878</td>\n",
       "    </tr>\n",
       "    <tr>\n",
       "      <th>min</th>\n",
       "      <td>150.000000</td>\n",
       "      <td>0.000000</td>\n",
       "      <td>9.000000</td>\n",
       "      <td>12.00000</td>\n",
       "      <td>0.000000</td>\n",
       "    </tr>\n",
       "    <tr>\n",
       "      <th>25%</th>\n",
       "      <td>2877.500000</td>\n",
       "      <td>0.000000</td>\n",
       "      <td>100.000000</td>\n",
       "      <td>360.00000</td>\n",
       "      <td>1.000000</td>\n",
       "    </tr>\n",
       "    <tr>\n",
       "      <th>50%</th>\n",
       "      <td>3812.500000</td>\n",
       "      <td>1188.500000</td>\n",
       "      <td>128.000000</td>\n",
       "      <td>360.00000</td>\n",
       "      <td>1.000000</td>\n",
       "    </tr>\n",
       "    <tr>\n",
       "      <th>75%</th>\n",
       "      <td>5795.000000</td>\n",
       "      <td>2297.250000</td>\n",
       "      <td>168.000000</td>\n",
       "      <td>360.00000</td>\n",
       "      <td>1.000000</td>\n",
       "    </tr>\n",
       "    <tr>\n",
       "      <th>max</th>\n",
       "      <td>81000.000000</td>\n",
       "      <td>41667.000000</td>\n",
       "      <td>700.000000</td>\n",
       "      <td>480.00000</td>\n",
       "      <td>1.000000</td>\n",
       "    </tr>\n",
       "  </tbody>\n",
       "</table>\n",
       "</div>"
      ],
      "text/plain": [
       "       ApplicantIncome  CoapplicantIncome  LoanAmount  Loan_Amount_Term  \\\n",
       "count       614.000000         614.000000  592.000000         600.00000   \n",
       "mean       5403.459283        1621.245798  146.412162         342.00000   \n",
       "std        6109.041673        2926.248369   85.587325          65.12041   \n",
       "min         150.000000           0.000000    9.000000          12.00000   \n",
       "25%        2877.500000           0.000000  100.000000         360.00000   \n",
       "50%        3812.500000        1188.500000  128.000000         360.00000   \n",
       "75%        5795.000000        2297.250000  168.000000         360.00000   \n",
       "max       81000.000000       41667.000000  700.000000         480.00000   \n",
       "\n",
       "       Credit_History  \n",
       "count      564.000000  \n",
       "mean         0.842199  \n",
       "std          0.364878  \n",
       "min          0.000000  \n",
       "25%          1.000000  \n",
       "50%          1.000000  \n",
       "75%          1.000000  \n",
       "max          1.000000  "
      ]
     },
     "execution_count": 7,
     "metadata": {},
     "output_type": "execute_result"
    }
   ],
   "source": [
    "df.describe()"
   ]
  },
  {
   "cell_type": "code",
   "execution_count": null,
   "id": "e676d517-d8aa-411d-8056-1925cd37bbd7",
   "metadata": {},
   "outputs": [],
   "source": []
  },
  {
   "cell_type": "code",
   "execution_count": 8,
   "id": "d190504b-f5f4-4b88-a341-4ae3fb87710d",
   "metadata": {},
   "outputs": [
    {
     "data": {
      "text/html": [
       "<div>\n",
       "<style scoped>\n",
       "    .dataframe tbody tr th:only-of-type {\n",
       "        vertical-align: middle;\n",
       "    }\n",
       "\n",
       "    .dataframe tbody tr th {\n",
       "        vertical-align: top;\n",
       "    }\n",
       "\n",
       "    .dataframe thead th {\n",
       "        text-align: right;\n",
       "    }\n",
       "</style>\n",
       "<table border=\"1\" class=\"dataframe\">\n",
       "  <thead>\n",
       "    <tr style=\"text-align: right;\">\n",
       "      <th></th>\n",
       "      <th>Loan_ID</th>\n",
       "      <th>Gender</th>\n",
       "      <th>Married</th>\n",
       "      <th>Dependents</th>\n",
       "      <th>Education</th>\n",
       "      <th>Self_Employed</th>\n",
       "      <th>ApplicantIncome</th>\n",
       "      <th>CoapplicantIncome</th>\n",
       "      <th>LoanAmount</th>\n",
       "      <th>Loan_Amount_Term</th>\n",
       "      <th>Credit_History</th>\n",
       "      <th>Property_Area</th>\n",
       "      <th>Loan_Status</th>\n",
       "    </tr>\n",
       "  </thead>\n",
       "  <tbody>\n",
       "    <tr>\n",
       "      <th>275</th>\n",
       "      <td>LP001900</td>\n",
       "      <td>Male</td>\n",
       "      <td>Yes</td>\n",
       "      <td>1</td>\n",
       "      <td>Graduate</td>\n",
       "      <td>No</td>\n",
       "      <td>2750</td>\n",
       "      <td>1842.0</td>\n",
       "      <td>115.0</td>\n",
       "      <td>360.0</td>\n",
       "      <td>1.0</td>\n",
       "      <td>Semiurban</td>\n",
       "      <td>Y</td>\n",
       "    </tr>\n",
       "    <tr>\n",
       "      <th>555</th>\n",
       "      <td>LP002792</td>\n",
       "      <td>Male</td>\n",
       "      <td>Yes</td>\n",
       "      <td>1</td>\n",
       "      <td>Graduate</td>\n",
       "      <td>No</td>\n",
       "      <td>5468</td>\n",
       "      <td>1032.0</td>\n",
       "      <td>26.0</td>\n",
       "      <td>360.0</td>\n",
       "      <td>1.0</td>\n",
       "      <td>Semiurban</td>\n",
       "      <td>Y</td>\n",
       "    </tr>\n",
       "    <tr>\n",
       "      <th>291</th>\n",
       "      <td>LP001938</td>\n",
       "      <td>Male</td>\n",
       "      <td>Yes</td>\n",
       "      <td>2</td>\n",
       "      <td>Graduate</td>\n",
       "      <td>No</td>\n",
       "      <td>4400</td>\n",
       "      <td>0.0</td>\n",
       "      <td>127.0</td>\n",
       "      <td>360.0</td>\n",
       "      <td>0.0</td>\n",
       "      <td>Semiurban</td>\n",
       "      <td>N</td>\n",
       "    </tr>\n",
       "    <tr>\n",
       "      <th>566</th>\n",
       "      <td>LP002836</td>\n",
       "      <td>Male</td>\n",
       "      <td>No</td>\n",
       "      <td>0</td>\n",
       "      <td>Graduate</td>\n",
       "      <td>No</td>\n",
       "      <td>3333</td>\n",
       "      <td>0.0</td>\n",
       "      <td>70.0</td>\n",
       "      <td>360.0</td>\n",
       "      <td>1.0</td>\n",
       "      <td>Urban</td>\n",
       "      <td>Y</td>\n",
       "    </tr>\n",
       "    <tr>\n",
       "      <th>557</th>\n",
       "      <td>LP002795</td>\n",
       "      <td>Male</td>\n",
       "      <td>Yes</td>\n",
       "      <td>3+</td>\n",
       "      <td>Graduate</td>\n",
       "      <td>Yes</td>\n",
       "      <td>10139</td>\n",
       "      <td>0.0</td>\n",
       "      <td>260.0</td>\n",
       "      <td>360.0</td>\n",
       "      <td>1.0</td>\n",
       "      <td>Semiurban</td>\n",
       "      <td>Y</td>\n",
       "    </tr>\n",
       "  </tbody>\n",
       "</table>\n",
       "</div>"
      ],
      "text/plain": [
       "      Loan_ID Gender Married Dependents Education Self_Employed  \\\n",
       "275  LP001900   Male     Yes          1  Graduate            No   \n",
       "555  LP002792   Male     Yes          1  Graduate            No   \n",
       "291  LP001938   Male     Yes          2  Graduate            No   \n",
       "566  LP002836   Male      No          0  Graduate            No   \n",
       "557  LP002795   Male     Yes         3+  Graduate           Yes   \n",
       "\n",
       "     ApplicantIncome  CoapplicantIncome  LoanAmount  Loan_Amount_Term  \\\n",
       "275             2750             1842.0       115.0             360.0   \n",
       "555             5468             1032.0        26.0             360.0   \n",
       "291             4400                0.0       127.0             360.0   \n",
       "566             3333                0.0        70.0             360.0   \n",
       "557            10139                0.0       260.0             360.0   \n",
       "\n",
       "     Credit_History Property_Area Loan_Status  \n",
       "275             1.0     Semiurban           Y  \n",
       "555             1.0     Semiurban           Y  \n",
       "291             0.0     Semiurban           N  \n",
       "566             1.0         Urban           Y  \n",
       "557             1.0     Semiurban           Y  "
      ]
     },
     "execution_count": 8,
     "metadata": {},
     "output_type": "execute_result"
    }
   ],
   "source": [
    "df.sample(5)"
   ]
  },
  {
   "cell_type": "code",
   "execution_count": 9,
   "id": "79905d46-3c42-44e7-bf0a-bd4ae27d58d3",
   "metadata": {},
   "outputs": [
    {
     "data": {
      "text/html": [
       "<div>\n",
       "<style scoped>\n",
       "    .dataframe tbody tr th:only-of-type {\n",
       "        vertical-align: middle;\n",
       "    }\n",
       "\n",
       "    .dataframe tbody tr th {\n",
       "        vertical-align: top;\n",
       "    }\n",
       "\n",
       "    .dataframe thead th {\n",
       "        text-align: right;\n",
       "    }\n",
       "</style>\n",
       "<table border=\"1\" class=\"dataframe\">\n",
       "  <thead>\n",
       "    <tr style=\"text-align: right;\">\n",
       "      <th></th>\n",
       "      <th>Loan_ID</th>\n",
       "      <th>Gender</th>\n",
       "      <th>Married</th>\n",
       "      <th>Dependents</th>\n",
       "      <th>Education</th>\n",
       "      <th>Self_Employed</th>\n",
       "      <th>ApplicantIncome</th>\n",
       "      <th>CoapplicantIncome</th>\n",
       "      <th>LoanAmount</th>\n",
       "      <th>Loan_Amount_Term</th>\n",
       "      <th>Credit_History</th>\n",
       "      <th>Property_Area</th>\n",
       "      <th>Loan_Status</th>\n",
       "      <th>Total_Income</th>\n",
       "    </tr>\n",
       "  </thead>\n",
       "  <tbody>\n",
       "    <tr>\n",
       "      <th>0</th>\n",
       "      <td>LP001002</td>\n",
       "      <td>Male</td>\n",
       "      <td>No</td>\n",
       "      <td>0</td>\n",
       "      <td>Graduate</td>\n",
       "      <td>No</td>\n",
       "      <td>5849</td>\n",
       "      <td>0.0</td>\n",
       "      <td>NaN</td>\n",
       "      <td>360.0</td>\n",
       "      <td>1.0</td>\n",
       "      <td>Urban</td>\n",
       "      <td>Y</td>\n",
       "      <td>5849.0</td>\n",
       "    </tr>\n",
       "    <tr>\n",
       "      <th>1</th>\n",
       "      <td>LP001003</td>\n",
       "      <td>Male</td>\n",
       "      <td>Yes</td>\n",
       "      <td>1</td>\n",
       "      <td>Graduate</td>\n",
       "      <td>No</td>\n",
       "      <td>4583</td>\n",
       "      <td>1508.0</td>\n",
       "      <td>128.0</td>\n",
       "      <td>360.0</td>\n",
       "      <td>1.0</td>\n",
       "      <td>Rural</td>\n",
       "      <td>N</td>\n",
       "      <td>6091.0</td>\n",
       "    </tr>\n",
       "    <tr>\n",
       "      <th>2</th>\n",
       "      <td>LP001005</td>\n",
       "      <td>Male</td>\n",
       "      <td>Yes</td>\n",
       "      <td>0</td>\n",
       "      <td>Graduate</td>\n",
       "      <td>Yes</td>\n",
       "      <td>3000</td>\n",
       "      <td>0.0</td>\n",
       "      <td>66.0</td>\n",
       "      <td>360.0</td>\n",
       "      <td>1.0</td>\n",
       "      <td>Urban</td>\n",
       "      <td>Y</td>\n",
       "      <td>3000.0</td>\n",
       "    </tr>\n",
       "    <tr>\n",
       "      <th>3</th>\n",
       "      <td>LP001006</td>\n",
       "      <td>Male</td>\n",
       "      <td>Yes</td>\n",
       "      <td>0</td>\n",
       "      <td>Not Graduate</td>\n",
       "      <td>No</td>\n",
       "      <td>2583</td>\n",
       "      <td>2358.0</td>\n",
       "      <td>120.0</td>\n",
       "      <td>360.0</td>\n",
       "      <td>1.0</td>\n",
       "      <td>Urban</td>\n",
       "      <td>Y</td>\n",
       "      <td>4941.0</td>\n",
       "    </tr>\n",
       "    <tr>\n",
       "      <th>4</th>\n",
       "      <td>LP001008</td>\n",
       "      <td>Male</td>\n",
       "      <td>No</td>\n",
       "      <td>0</td>\n",
       "      <td>Graduate</td>\n",
       "      <td>No</td>\n",
       "      <td>6000</td>\n",
       "      <td>0.0</td>\n",
       "      <td>141.0</td>\n",
       "      <td>360.0</td>\n",
       "      <td>1.0</td>\n",
       "      <td>Urban</td>\n",
       "      <td>Y</td>\n",
       "      <td>6000.0</td>\n",
       "    </tr>\n",
       "  </tbody>\n",
       "</table>\n",
       "</div>"
      ],
      "text/plain": [
       "    Loan_ID Gender Married Dependents     Education Self_Employed  \\\n",
       "0  LP001002   Male      No          0      Graduate            No   \n",
       "1  LP001003   Male     Yes          1      Graduate            No   \n",
       "2  LP001005   Male     Yes          0      Graduate           Yes   \n",
       "3  LP001006   Male     Yes          0  Not Graduate            No   \n",
       "4  LP001008   Male      No          0      Graduate            No   \n",
       "\n",
       "   ApplicantIncome  CoapplicantIncome  LoanAmount  Loan_Amount_Term  \\\n",
       "0             5849                0.0         NaN             360.0   \n",
       "1             4583             1508.0       128.0             360.0   \n",
       "2             3000                0.0        66.0             360.0   \n",
       "3             2583             2358.0       120.0             360.0   \n",
       "4             6000                0.0       141.0             360.0   \n",
       "\n",
       "   Credit_History Property_Area Loan_Status  Total_Income  \n",
       "0             1.0         Urban           Y        5849.0  \n",
       "1             1.0         Rural           N        6091.0  \n",
       "2             1.0         Urban           Y        3000.0  \n",
       "3             1.0         Urban           Y        4941.0  \n",
       "4             1.0         Urban           Y        6000.0  "
      ]
     },
     "execution_count": 9,
     "metadata": {},
     "output_type": "execute_result"
    }
   ],
   "source": [
    "##Total Applicant Income:\n",
    "df[\"Total_Income\"] = df[\"ApplicantIncome\"] + df[\"CoapplicantIncome\"]\n",
    "df.head()"
   ]
  },
  {
   "cell_type": "code",
   "execution_count": 10,
   "id": "d888389e-6f72-4146-b400-ed93437f30c6",
   "metadata": {},
   "outputs": [
    {
     "data": {
      "text/plain": [
       "<Axes: xlabel='ApplicantIncome_log', ylabel='Count'>"
      ]
     },
     "execution_count": 10,
     "metadata": {},
     "output_type": "execute_result"
    },
    {
     "data": {
      "image/png": "[encoded data removed]",
      "text/plain": [
       "<Figure size 640x480 with 1 Axes>"
      ]
     },
     "metadata": {},
     "output_type": "display_data"
    }
   ],
   "source": [
    "# Apply Log Transformation:\n",
    "df[\"ApplicantIncome_log\"] = np.log(df[\"ApplicantIncome\"])\n",
    "sns.histplot(df[\"ApplicantIncome_log\"], kde = True)\n",
    "                                  "
   ]
  },
  {
   "cell_type": "code",
   "execution_count": 11,
   "id": "8d247f47-c899-4a59-a4b2-76fad0244748",
   "metadata": {},
   "outputs": [
    {
     "data": {
      "text/plain": [
       "<Axes: xlabel='LoanAmount_log', ylabel='Count'>"
      ]
     },
     "execution_count": 11,
     "metadata": {},
     "output_type": "execute_result"
    },
    {
     "data": {
      "image/png": "[encoded data removed]",
      "text/plain": [
       "<Figure size 640x480 with 1 Axes>"
      ]
     },
     "metadata": {},
     "output_type": "display_data"
    }
   ],
   "source": [
    "df[\"LoanAmount_log\"] = np.log(df[\"LoanAmount\"])\n",
    "sns.histplot(df[\"LoanAmount_log\"], kde = True)"
   ]
  },
  {
   "cell_type": "code",
   "execution_count": 12,
   "id": "b9dc5903-576d-4aa2-bec5-66f0058b07d3",
   "metadata": {},
   "outputs": [
    {
     "data": {
      "text/plain": [
       "<Axes: xlabel='Loan_Amount_Term_log', ylabel='Count'>"
      ]
     },
     "execution_count": 12,
     "metadata": {},
     "output_type": "execute_result"
    },
    {
     "data": {
      "image/png": "[encoded data removed]",
      "text/plain": [
       "<Figure size 640x480 with 1 Axes>"
      ]
     },
     "metadata": {},
     "output_type": "display_data"
    }
   ],
   "source": [
    "df[\"Loan_Amount_Term_log\"] = np.log(df[\"Loan_Amount_Term\"])\n",
    "sns.histplot(df[\"Loan_Amount_Term_log\"], kde = True)"
   ]
  },
  {
   "cell_type": "code",
   "execution_count": 13,
   "id": "9d6934d7-562b-4e9c-99e2-3f59612bedb5",
   "metadata": {},
   "outputs": [
    {
     "data": {
      "text/plain": [
       "<Axes: xlabel='Total_Income_log', ylabel='Count'>"
      ]
     },
     "execution_count": 13,
     "metadata": {},
     "output_type": "execute_result"
    },
    {
     "data": {
      "image/png": "[encoded data removed]",
      "text/plain": [
       "<Figure size 640x480 with 1 Axes>"
      ]
     },
     "metadata": {},
     "output_type": "display_data"
    }
   ],
   "source": [
    "df[\"Total_Income_log\"] = np.log(df[\"Total_Income\"])\n",
    "sns.histplot(df[\"Total_Income_log\"], kde = True)"
   ]
  },
  {
   "cell_type": "code",
   "execution_count": 14,
   "id": "4636ed92-5fba-47ff-a9c0-e8d7913ad405",
   "metadata": {},
   "outputs": [
    {
     "data": {
      "text/plain": [
       "Index(['Loan_ID', 'Gender', 'Married', 'Dependents', 'Education',\n",
       "       'Self_Employed', 'ApplicantIncome', 'CoapplicantIncome', 'LoanAmount',\n",
       "       'Loan_Amount_Term', 'Credit_History', 'Property_Area', 'Loan_Status',\n",
       "       'Total_Income', 'ApplicantIncome_log', 'LoanAmount_log',\n",
       "       'Loan_Amount_Term_log', 'Total_Income_log'],\n",
       "      dtype='object')"
      ]
     },
     "execution_count": 14,
     "metadata": {},
     "output_type": "execute_result"
    }
   ],
   "source": [
    "df.columns"
   ]
  },
  {
   "cell_type": "code",
   "execution_count": null,
   "id": "eca163e8-1ae4-42e1-aa9f-ad4125d4273e",
   "metadata": {},
   "outputs": [],
   "source": [
    "\n"
   ]
  },
  {
   "cell_type": "code",
   "execution_count": 15,
   "id": "6822d101-03a2-4868-a80b-c2a311597b2a",
   "metadata": {},
   "outputs": [
    {
     "data": {
      "text/html": [
       "<div>\n",
       "<style scoped>\n",
       "    .dataframe tbody tr th:only-of-type {\n",
       "        vertical-align: middle;\n",
       "    }\n",
       "\n",
       "    .dataframe tbody tr th {\n",
       "        vertical-align: top;\n",
       "    }\n",
       "\n",
       "    .dataframe thead th {\n",
       "        text-align: right;\n",
       "    }\n",
       "</style>\n",
       "<table border=\"1\" class=\"dataframe\">\n",
       "  <thead>\n",
       "    <tr style=\"text-align: right;\">\n",
       "      <th></th>\n",
       "      <th>Gender</th>\n",
       "      <th>Married</th>\n",
       "      <th>Dependents</th>\n",
       "      <th>Education</th>\n",
       "      <th>Self_Employed</th>\n",
       "      <th>Credit_History</th>\n",
       "      <th>Property_Area</th>\n",
       "      <th>Loan_Status</th>\n",
       "      <th>ApplicantIncome_log</th>\n",
       "      <th>LoanAmount_log</th>\n",
       "      <th>Loan_Amount_Term_log</th>\n",
       "      <th>Total_Income_log</th>\n",
       "    </tr>\n",
       "  </thead>\n",
       "  <tbody>\n",
       "    <tr>\n",
       "      <th>0</th>\n",
       "      <td>Male</td>\n",
       "      <td>No</td>\n",
       "      <td>0</td>\n",
       "      <td>Graduate</td>\n",
       "      <td>No</td>\n",
       "      <td>1.0</td>\n",
       "      <td>Urban</td>\n",
       "      <td>Y</td>\n",
       "      <td>8.674026</td>\n",
       "      <td>NaN</td>\n",
       "      <td>5.886104</td>\n",
       "      <td>8.674026</td>\n",
       "    </tr>\n",
       "    <tr>\n",
       "      <th>1</th>\n",
       "      <td>Male</td>\n",
       "      <td>Yes</td>\n",
       "      <td>1</td>\n",
       "      <td>Graduate</td>\n",
       "      <td>No</td>\n",
       "      <td>1.0</td>\n",
       "      <td>Rural</td>\n",
       "      <td>N</td>\n",
       "      <td>8.430109</td>\n",
       "      <td>4.852030</td>\n",
       "      <td>5.886104</td>\n",
       "      <td>8.714568</td>\n",
       "    </tr>\n",
       "    <tr>\n",
       "      <th>2</th>\n",
       "      <td>Male</td>\n",
       "      <td>Yes</td>\n",
       "      <td>0</td>\n",
       "      <td>Graduate</td>\n",
       "      <td>Yes</td>\n",
       "      <td>1.0</td>\n",
       "      <td>Urban</td>\n",
       "      <td>Y</td>\n",
       "      <td>8.006368</td>\n",
       "      <td>4.189655</td>\n",
       "      <td>5.886104</td>\n",
       "      <td>8.006368</td>\n",
       "    </tr>\n",
       "    <tr>\n",
       "      <th>3</th>\n",
       "      <td>Male</td>\n",
       "      <td>Yes</td>\n",
       "      <td>0</td>\n",
       "      <td>Not Graduate</td>\n",
       "      <td>No</td>\n",
       "      <td>1.0</td>\n",
       "      <td>Urban</td>\n",
       "      <td>Y</td>\n",
       "      <td>7.856707</td>\n",
       "      <td>4.787492</td>\n",
       "      <td>5.886104</td>\n",
       "      <td>8.505323</td>\n",
       "    </tr>\n",
       "    <tr>\n",
       "      <th>4</th>\n",
       "      <td>Male</td>\n",
       "      <td>No</td>\n",
       "      <td>0</td>\n",
       "      <td>Graduate</td>\n",
       "      <td>No</td>\n",
       "      <td>1.0</td>\n",
       "      <td>Urban</td>\n",
       "      <td>Y</td>\n",
       "      <td>8.699515</td>\n",
       "      <td>4.948760</td>\n",
       "      <td>5.886104</td>\n",
       "      <td>8.699515</td>\n",
       "    </tr>\n",
       "  </tbody>\n",
       "</table>\n",
       "</div>"
      ],
      "text/plain": [
       "  Gender Married Dependents     Education Self_Employed  Credit_History  \\\n",
       "0   Male      No          0      Graduate            No             1.0   \n",
       "1   Male     Yes          1      Graduate            No             1.0   \n",
       "2   Male     Yes          0      Graduate           Yes             1.0   \n",
       "3   Male     Yes          0  Not Graduate            No             1.0   \n",
       "4   Male      No          0      Graduate            No             1.0   \n",
       "\n",
       "  Property_Area Loan_Status  ApplicantIncome_log  LoanAmount_log  \\\n",
       "0         Urban           Y             8.674026             NaN   \n",
       "1         Rural           N             8.430109        4.852030   \n",
       "2         Urban           Y             8.006368        4.189655   \n",
       "3         Urban           Y             7.856707        4.787492   \n",
       "4         Urban           Y             8.699515        4.948760   \n",
       "\n",
       "   Loan_Amount_Term_log  Total_Income_log  \n",
       "0              5.886104          8.674026  \n",
       "1              5.886104          8.714568  \n",
       "2              5.886104          8.006368  \n",
       "3              5.886104          8.505323  \n",
       "4              5.886104          8.699515  "
      ]
     },
     "execution_count": 15,
     "metadata": {},
     "output_type": "execute_result"
    }
   ],
   "source": [
    "#Drop Unnecessary Column:\n",
    "df = df.drop(['Loan_ID','ApplicantIncome','CoapplicantIncome','LoanAmount','Total_Income','Loan_Amount_Term'], axis=1)\n",
    "df.head()"
   ]
  },
  {
   "cell_type": "code",
   "execution_count": 16,
   "id": "ecac0306-746b-489a-b893-ccbe5f2b0666",
   "metadata": {},
   "outputs": [
    {
     "data": {
      "text/plain": [
       "False"
      ]
     },
     "execution_count": 16,
     "metadata": {},
     "output_type": "execute_result"
    }
   ],
   "source": [
    "df.duplicated().any()"
   ]
  },
  {
   "cell_type": "code",
   "execution_count": 17,
   "id": "d717751f-7ad6-4cf3-90eb-fa3cd3016441",
   "metadata": {},
   "outputs": [
    {
     "data": {
      "text/plain": [
       "Credit_History          50\n",
       "Self_Employed           32\n",
       "LoanAmount_log          22\n",
       "Dependents              15\n",
       "Loan_Amount_Term_log    14\n",
       "Gender                  13\n",
       "Married                  3\n",
       "Education                0\n",
       "Property_Area            0\n",
       "Loan_Status              0\n",
       "ApplicantIncome_log      0\n",
       "Total_Income_log         0\n",
       "dtype: int64"
      ]
     },
     "execution_count": 17,
     "metadata": {},
     "output_type": "execute_result"
    }
   ],
   "source": [
    "df.isnull().sum().sort_values(ascending=False)"
   ]
  },
  {
   "cell_type": "code",
   "execution_count": 18,
   "id": "a881f344-2aca-4072-a202-a0b5e44f4362",
   "metadata": {},
   "outputs": [
    {
     "data": {
      "text/plain": [
       "Gender                  2.117264\n",
       "Married                 0.488599\n",
       "Dependents              2.442997\n",
       "Education               0.000000\n",
       "Self_Employed           5.211726\n",
       "Credit_History          8.143322\n",
       "Property_Area           0.000000\n",
       "Loan_Status             0.000000\n",
       "ApplicantIncome_log     0.000000\n",
       "LoanAmount_log          3.583062\n",
       "Loan_Amount_Term_log    2.280130\n",
       "Total_Income_log        0.000000\n",
       "dtype: float64"
      ]
     },
     "execution_count": 18,
     "metadata": {},
     "output_type": "execute_result"
    }
   ],
   "source": [
    "df.isnull().sum()*100/len(df)(ascending=False)"
   ]
  },
  {
   "cell_type": "code",
   "execution_count": null,
   "id": "eae3af94-b92f-4ecd-92f5-a2d740bc937e",
   "metadata": {},
   "outputs": [],
   "source": []
  },
  {
   "cell_type": "code",
   "execution_count": 19,
   "id": "78d8bf6f-5e72-4ac0-9302-06cf1e69b492",
   "metadata": {},
   "outputs": [
    {
     "data": {
      "text/plain": [
       "0      5.886104\n",
       "1      5.886104\n",
       "2      5.886104\n",
       "3      5.886104\n",
       "4      5.886104\n",
       "         ...   \n",
       "609    5.886104\n",
       "610    5.192957\n",
       "611    5.886104\n",
       "612    5.886104\n",
       "613    5.886104\n",
       "Name: Loan_Amount_Term_log, Length: 614, dtype: float64"
      ]
     },
     "execution_count": 19,
     "metadata": {},
     "output_type": "execute_result"
    }
   ],
   "source": [
    "df['Loan_Amount_Term_log']"
   ]
  },
  {
   "cell_type": "code",
   "execution_count": 20,
   "id": "2d804131-3cf7-4db9-ab02-bb0a469f04b7",
   "metadata": {},
   "outputs": [],
   "source": [
    "## Handling Missing Data:\n",
    "# Drop rows with missing values less than 5% in the current column.\n",
    "col = [\"Gender\",\"Married\", \"Dependents\",\"LoanAmount_log\",\"Loan_Amount_Term_log\"]\n",
    "for i in col:\n",
    "    df = df.dropna(subset = [i]) "
   ]
  },
  {
   "cell_type": "code",
   "execution_count": 21,
   "id": "b9f1c8f7-65f1-44f5-8ee2-4ddc2c818717",
   "metadata": {},
   "outputs": [],
   "source": [
    "# Fill missing values with the mode of each column.\n",
    "col2 = [\"Self_Employed\", \"Credit_History\"]\n",
    "for j in col2:\n",
    "    df[j] = df[j].fillna(df[j].mode()[0])  "
   ]
  },
  {
   "cell_type": "code",
   "execution_count": 22,
   "id": "d3011678-a0fa-4251-bebf-79f66715319f",
   "metadata": {},
   "outputs": [
    {
     "data": {
      "text/plain": [
       "False"
      ]
     },
     "execution_count": 22,
     "metadata": {},
     "output_type": "execute_result"
    }
   ],
   "source": [
    "df.isnull().sum().any()"
   ]
  },
  {
   "cell_type": "code",
   "execution_count": 23,
   "id": "0986fea1-4642-478a-9f63-4a3f9cc4e4e6",
   "metadata": {},
   "outputs": [
    {
     "data": {
      "text/plain": [
       "(553, 12)"
      ]
     },
     "execution_count": 23,
     "metadata": {},
     "output_type": "execute_result"
    }
   ],
   "source": [
    "df.shape"
   ]
  },
  {
   "cell_type": "code",
   "execution_count": 24,
   "id": "225a42dc-2c15-4dc7-8898-d0c669c1ae21",
   "metadata": {},
   "outputs": [
    {
     "data": {
      "text/plain": [
       "<Axes: >"
      ]
     },
     "execution_count": 24,
     "metadata": {},
     "output_type": "execute_result"
    },
    {
     "data": {
      "image/png": "[encoded data removed]",
      "text/plain": [
       "<Figure size 2000x800 with 1 Axes>"
      ]
     },
     "metadata": {},
     "output_type": "display_data"
    }
   ],
   "source": [
    "##Checking the Outliers:\n",
    "plt.figure(figsize=(20,8))\n",
    "sns.boxplot(data = df)"
   ]
  },
  {
   "cell_type": "code",
   "execution_count": 25,
   "id": "5c22ba62-c115-43e2-8b79-0870076a0c6d",
   "metadata": {},
   "outputs": [],
   "source": [
    "from sklearn.preprocessing import LabelEncoder\n",
    "le = LabelEncoder()\n",
    "columns_to_encode = df.iloc[:, [0, 1, 2, 3,4 ,6,7, 11]]\n",
    "for i in columns_to_encode:\n",
    "   df[i] = le.fit_transform(df[i])"
   ]
  },
  {
   "cell_type": "code",
   "execution_count": 26,
   "id": "fb15123d-7b3a-4cc4-b357-bb986a5a3e7a",
   "metadata": {},
   "outputs": [
    {
     "data": {
      "text/html": [
       "<style type=\"text/css\">\n",
       "#T_ab6fb_row0_col0, #T_ab6fb_row1_col1, #T_ab6fb_row2_col2, #T_ab6fb_row3_col3, #T_ab6fb_row4_col4, #T_ab6fb_row5_col5, #T_ab6fb_row6_col6, #T_ab6fb_row7_col7, #T_ab6fb_row8_col8, #T_ab6fb_row9_col9, #T_ab6fb_row10_col10, #T_ab6fb_row11_col11 {\n",
       "  background-color: #b40426;\n",
       "  color: #f1f1f1;\n",
       "}\n",
       "#T_ab6fb_row0_col1 {\n",
       "  background-color: #bfd3f6;\n",
       "  color: #000000;\n",
       "}\n",
       "#T_ab6fb_row0_col2 {\n",
       "  background-color: #8badfd;\n",
       "  color: #000000;\n",
       "}\n",
       "#T_ab6fb_row0_col3, #T_ab6fb_row10_col9 {\n",
       "  background-color: #7da0f9;\n",
       "  color: #f1f1f1;\n",
       "}\n",
       "#T_ab6fb_row0_col4 {\n",
       "  background-color: #4257c9;\n",
       "  color: #f1f1f1;\n",
       "}\n",
       "#T_ab6fb_row0_col5, #T_ab6fb_row4_col10, #T_ab6fb_row10_col7 {\n",
       "  background-color: #4961d2;\n",
       "  color: #f1f1f1;\n",
       "}\n",
       "#T_ab6fb_row0_col6, #T_ab6fb_row0_col7, #T_ab6fb_row2_col4, #T_ab6fb_row5_col6, #T_ab6fb_row6_col2, #T_ab6fb_row7_col9 {\n",
       "  background-color: #536edd;\n",
       "  color: #f1f1f1;\n",
       "}\n",
       "#T_ab6fb_row0_col8, #T_ab6fb_row11_col1 {\n",
       "  background-color: #81a4fb;\n",
       "  color: #f1f1f1;\n",
       "}\n",
       "#T_ab6fb_row0_col9, #T_ab6fb_row11_col0 {\n",
       "  background-color: #8db0fe;\n",
       "  color: #000000;\n",
       "}\n",
       "#T_ab6fb_row0_col10 {\n",
       "  background-color: #3d50c3;\n",
       "  color: #f1f1f1;\n",
       "}\n",
       "#T_ab6fb_row0_col11 {\n",
       "  background-color: #a9c6fd;\n",
       "  color: #000000;\n",
       "}\n",
       "#T_ab6fb_row1_col0 {\n",
       "  background-color: #bed2f6;\n",
       "  color: #000000;\n",
       "}\n",
       "#T_ab6fb_row1_col2, #T_ab6fb_row2_col1 {\n",
       "  background-color: #c0d4f5;\n",
       "  color: #000000;\n",
       "}\n",
       "#T_ab6fb_row1_col3, #T_ab6fb_row5_col11 {\n",
       "  background-color: #6f92f3;\n",
       "  color: #f1f1f1;\n",
       "}\n",
       "#T_ab6fb_row1_col4, #T_ab6fb_row4_col7, #T_ab6fb_row8_col3 {\n",
       "  background-color: #4055c8;\n",
       "  color: #f1f1f1;\n",
       "}\n",
       "#T_ab6fb_row1_col5, #T_ab6fb_row8_col6, #T_ab6fb_row8_col10 {\n",
       "  background-color: #4c66d6;\n",
       "  color: #f1f1f1;\n",
       "}\n",
       "#T_ab6fb_row1_col6, #T_ab6fb_row10_col3 {\n",
       "  background-color: #5b7ae5;\n",
       "  color: #f1f1f1;\n",
       "}\n",
       "#T_ab6fb_row1_col7, #T_ab6fb_row11_col2 {\n",
       "  background-color: #6a8bef;\n",
       "  color: #f1f1f1;\n",
       "}\n",
       "#T_ab6fb_row1_col8, #T_ab6fb_row7_col11, #T_ab6fb_row9_col10 {\n",
       "  background-color: #6b8df0;\n",
       "  color: #f1f1f1;\n",
       "}\n",
       "#T_ab6fb_row1_col9 {\n",
       "  background-color: #97b8ff;\n",
       "  color: #000000;\n",
       "}\n",
       "#T_ab6fb_row1_col10, #T_ab6fb_row2_col5, #T_ab6fb_row2_col10, #T_ab6fb_row9_col5, #T_ab6fb_row10_col4 {\n",
       "  background-color: #3c4ec2;\n",
       "  color: #f1f1f1;\n",
       "}\n",
       "#T_ab6fb_row1_col11 {\n",
       "  background-color: #9dbdff;\n",
       "  color: #000000;\n",
       "}\n",
       "#T_ab6fb_row2_col0, #T_ab6fb_row8_col4 {\n",
       "  background-color: #89acfd;\n",
       "  color: #000000;\n",
       "}\n",
       "#T_ab6fb_row2_col3 {\n",
       "  background-color: #7b9ff9;\n",
       "  color: #f1f1f1;\n",
       "}\n",
       "#T_ab6fb_row2_col6, #T_ab6fb_row5_col9, #T_ab6fb_row6_col3, #T_ab6fb_row6_col7 {\n",
       "  background-color: #5875e1;\n",
       "  color: #f1f1f1;\n",
       "}\n",
       "#T_ab6fb_row2_col7, #T_ab6fb_row5_col0, #T_ab6fb_row7_col10 {\n",
       "  background-color: #4f69d9;\n",
       "  color: #f1f1f1;\n",
       "}\n",
       "#T_ab6fb_row2_col8, #T_ab6fb_row4_col9 {\n",
       "  background-color: #84a7fc;\n",
       "  color: #f1f1f1;\n",
       "}\n",
       "#T_ab6fb_row2_col9 {\n",
       "  background-color: #8caffe;\n",
       "  color: #000000;\n",
       "}\n",
       "#T_ab6fb_row2_col11 {\n",
       "  background-color: #86a9fc;\n",
       "  color: #f1f1f1;\n",
       "}\n",
       "#T_ab6fb_row3_col0 {\n",
       "  background-color: #5d7ce6;\n",
       "  color: #f1f1f1;\n",
       "}\n",
       "#T_ab6fb_row3_col1 {\n",
       "  background-color: #506bda;\n",
       "  color: #f1f1f1;\n",
       "}\n",
       "#T_ab6fb_row3_col2, #T_ab6fb_row4_col2, #T_ab6fb_row7_col3 {\n",
       "  background-color: #5e7de7;\n",
       "  color: #f1f1f1;\n",
       "}\n",
       "#T_ab6fb_row3_col4 {\n",
       "  background-color: #4358cb;\n",
       "  color: #f1f1f1;\n",
       "}\n",
       "#T_ab6fb_row3_col5, #T_ab6fb_row3_col7, #T_ab6fb_row3_col8, #T_ab6fb_row3_col9, #T_ab6fb_row3_col11, #T_ab6fb_row5_col4, #T_ab6fb_row6_col4, #T_ab6fb_row6_col10, #T_ab6fb_row7_col4, #T_ab6fb_row9_col6, #T_ab6fb_row9_col7, #T_ab6fb_row10_col0, #T_ab6fb_row10_col1, #T_ab6fb_row10_col2, #T_ab6fb_row11_col3 {\n",
       "  background-color: #3b4cc0;\n",
       "  color: #f1f1f1;\n",
       "}\n",
       "#T_ab6fb_row3_col6, #T_ab6fb_row3_col10, #T_ab6fb_row4_col5, #T_ab6fb_row10_col6 {\n",
       "  background-color: #3e51c5;\n",
       "  color: #f1f1f1;\n",
       "}\n",
       "#T_ab6fb_row4_col0, #T_ab6fb_row4_col1, #T_ab6fb_row4_col6, #T_ab6fb_row6_col0, #T_ab6fb_row11_col10 {\n",
       "  background-color: #4b64d5;\n",
       "  color: #f1f1f1;\n",
       "}\n",
       "#T_ab6fb_row4_col3, #T_ab6fb_row8_col2 {\n",
       "  background-color: #6c8ff1;\n",
       "  color: #f1f1f1;\n",
       "}\n",
       "#T_ab6fb_row4_col8 {\n",
       "  background-color: #a7c5fe;\n",
       "  color: #000000;\n",
       "}\n",
       "#T_ab6fb_row4_col11 {\n",
       "  background-color: #a6c4fe;\n",
       "  color: #000000;\n",
       "}\n",
       "#T_ab6fb_row5_col1, #T_ab6fb_row6_col1 {\n",
       "  background-color: #5572df;\n",
       "  color: #f1f1f1;\n",
       "}\n",
       "#T_ab6fb_row5_col2, #T_ab6fb_row8_col5 {\n",
       "  background-color: #445acc;\n",
       "  color: #f1f1f1;\n",
       "}\n",
       "#T_ab6fb_row5_col3 {\n",
       "  background-color: #6180e9;\n",
       "  color: #f1f1f1;\n",
       "}\n",
       "#T_ab6fb_row5_col7 {\n",
       "  background-color: #e5d8d1;\n",
       "  color: #000000;\n",
       "}\n",
       "#T_ab6fb_row5_col8, #T_ab6fb_row7_col8 {\n",
       "  background-color: #6687ed;\n",
       "  color: #f1f1f1;\n",
       "}\n",
       "#T_ab6fb_row5_col10, #T_ab6fb_row8_col1 {\n",
       "  background-color: #516ddb;\n",
       "  color: #f1f1f1;\n",
       "}\n",
       "#T_ab6fb_row6_col5, #T_ab6fb_row9_col3 {\n",
       "  background-color: #455cce;\n",
       "  color: #f1f1f1;\n",
       "}\n",
       "#T_ab6fb_row6_col8, #T_ab6fb_row6_col11 {\n",
       "  background-color: #5f7fe8;\n",
       "  color: #f1f1f1;\n",
       "}\n",
       "#T_ab6fb_row6_col9, #T_ab6fb_row8_col7, #T_ab6fb_row10_col5, #T_ab6fb_row11_col5, #T_ab6fb_row11_col7 {\n",
       "  background-color: #485fd1;\n",
       "  color: #f1f1f1;\n",
       "}\n",
       "#T_ab6fb_row7_col0 {\n",
       "  background-color: #5673e0;\n",
       "  color: #f1f1f1;\n",
       "}\n",
       "#T_ab6fb_row7_col1 {\n",
       "  background-color: #6e90f2;\n",
       "  color: #f1f1f1;\n",
       "}\n",
       "#T_ab6fb_row7_col2 {\n",
       "  background-color: #5470de;\n",
       "  color: #f1f1f1;\n",
       "}\n",
       "#T_ab6fb_row7_col5 {\n",
       "  background-color: #e4d9d2;\n",
       "  color: #000000;\n",
       "}\n",
       "#T_ab6fb_row7_col6 {\n",
       "  background-color: #6384eb;\n",
       "  color: #f1f1f1;\n",
       "}\n",
       "#T_ab6fb_row8_col0, #T_ab6fb_row9_col4 {\n",
       "  background-color: #6788ee;\n",
       "  color: #f1f1f1;\n",
       "}\n",
       "#T_ab6fb_row8_col9 {\n",
       "  background-color: #ebd3c6;\n",
       "  color: #000000;\n",
       "}\n",
       "#T_ab6fb_row8_col11 {\n",
       "  background-color: #f5a081;\n",
       "  color: #000000;\n",
       "}\n",
       "#T_ab6fb_row9_col0 {\n",
       "  background-color: #799cf8;\n",
       "  color: #f1f1f1;\n",
       "}\n",
       "#T_ab6fb_row9_col1 {\n",
       "  background-color: #85a8fc;\n",
       "  color: #f1f1f1;\n",
       "}\n",
       "#T_ab6fb_row9_col2 {\n",
       "  background-color: #7a9df8;\n",
       "  color: #f1f1f1;\n",
       "}\n",
       "#T_ab6fb_row9_col8 {\n",
       "  background-color: #edd2c3;\n",
       "  color: #000000;\n",
       "}\n",
       "#T_ab6fb_row9_col11 {\n",
       "  background-color: #f6a385;\n",
       "  color: #000000;\n",
       "}\n",
       "#T_ab6fb_row10_col8 {\n",
       "  background-color: #6485ec;\n",
       "  color: #f1f1f1;\n",
       "}\n",
       "#T_ab6fb_row10_col11 {\n",
       "  background-color: #688aef;\n",
       "  color: #f1f1f1;\n",
       "}\n",
       "#T_ab6fb_row11_col4 {\n",
       "  background-color: #82a6fb;\n",
       "  color: #f1f1f1;\n",
       "}\n",
       "#T_ab6fb_row11_col6 {\n",
       "  background-color: #465ecf;\n",
       "  color: #f1f1f1;\n",
       "}\n",
       "#T_ab6fb_row11_col8 {\n",
       "  background-color: #f6a283;\n",
       "  color: #000000;\n",
       "}\n",
       "#T_ab6fb_row11_col9 {\n",
       "  background-color: #f7a688;\n",
       "  color: #000000;\n",
       "}\n",
       "</style>\n",
       "<table id=\"T_ab6fb\">\n",
       "  <thead>\n",
       "    <tr>\n",
       "      <th class=\"blank level0\" >&nbsp;</th>\n",
       "      <th id=\"T_ab6fb_level0_col0\" class=\"col_heading level0 col0\" >Gender</th>\n",
       "      <th id=\"T_ab6fb_level0_col1\" class=\"col_heading level0 col1\" >Married</th>\n",
       "      <th id=\"T_ab6fb_level0_col2\" class=\"col_heading level0 col2\" >Dependents</th>\n",
       "      <th id=\"T_ab6fb_level0_col3\" class=\"col_heading level0 col3\" >Education</th>\n",
       "      <th id=\"T_ab6fb_level0_col4\" class=\"col_heading level0 col4\" >Self_Employed</th>\n",
       "      <th id=\"T_ab6fb_level0_col5\" class=\"col_heading level0 col5\" >Credit_History</th>\n",
       "      <th id=\"T_ab6fb_level0_col6\" class=\"col_heading level0 col6\" >Property_Area</th>\n",
       "      <th id=\"T_ab6fb_level0_col7\" class=\"col_heading level0 col7\" >Loan_Status</th>\n",
       "      <th id=\"T_ab6fb_level0_col8\" class=\"col_heading level0 col8\" >ApplicantIncome_log</th>\n",
       "      <th id=\"T_ab6fb_level0_col9\" class=\"col_heading level0 col9\" >LoanAmount_log</th>\n",
       "      <th id=\"T_ab6fb_level0_col10\" class=\"col_heading level0 col10\" >Loan_Amount_Term_log</th>\n",
       "      <th id=\"T_ab6fb_level0_col11\" class=\"col_heading level0 col11\" >Total_Income_log</th>\n",
       "    </tr>\n",
       "  </thead>\n",
       "  <tbody>\n",
       "    <tr>\n",
       "      <th id=\"T_ab6fb_level0_row0\" class=\"row_heading level0 row0\" >Gender</th>\n",
       "      <td id=\"T_ab6fb_row0_col0\" class=\"data row0 col0\" >1.00</td>\n",
       "      <td id=\"T_ab6fb_row0_col1\" class=\"data row0 col1\" >0.35</td>\n",
       "      <td id=\"T_ab6fb_row0_col2\" class=\"data row0 col2\" >0.19</td>\n",
       "      <td id=\"T_ab6fb_row0_col3\" class=\"data row0 col3\" >0.05</td>\n",
       "      <td id=\"T_ab6fb_row0_col4\" class=\"data row0 col4\" >-0.01</td>\n",
       "      <td id=\"T_ab6fb_row0_col5\" class=\"data row0 col5\" >0.01</td>\n",
       "      <td id=\"T_ab6fb_row0_col6\" class=\"data row0 col6\" >-0.00</td>\n",
       "      <td id=\"T_ab6fb_row0_col7\" class=\"data row0 col7\" >0.03</td>\n",
       "      <td id=\"T_ab6fb_row0_col8\" class=\"data row0 col8\" >0.09</td>\n",
       "      <td id=\"T_ab6fb_row0_col9\" class=\"data row0 col9\" >0.14</td>\n",
       "      <td id=\"T_ab6fb_row0_col10\" class=\"data row0 col10\" >-0.07</td>\n",
       "      <td id=\"T_ab6fb_row0_col11\" class=\"data row0 col11\" >0.20</td>\n",
       "    </tr>\n",
       "    <tr>\n",
       "      <th id=\"T_ab6fb_level0_row1\" class=\"row_heading level0 row1\" >Married</th>\n",
       "      <td id=\"T_ab6fb_row1_col0\" class=\"data row1 col0\" >0.35</td>\n",
       "      <td id=\"T_ab6fb_row1_col1\" class=\"data row1 col1\" >1.00</td>\n",
       "      <td id=\"T_ab6fb_row1_col2\" class=\"data row1 col2\" >0.36</td>\n",
       "      <td id=\"T_ab6fb_row1_col3\" class=\"data row1 col3\" >0.01</td>\n",
       "      <td id=\"T_ab6fb_row1_col4\" class=\"data row1 col4\" >-0.01</td>\n",
       "      <td id=\"T_ab6fb_row1_col5\" class=\"data row1 col5\" >0.02</td>\n",
       "      <td id=\"T_ab6fb_row1_col6\" class=\"data row1 col6\" >0.03</td>\n",
       "      <td id=\"T_ab6fb_row1_col7\" class=\"data row1 col7\" >0.10</td>\n",
       "      <td id=\"T_ab6fb_row1_col8\" class=\"data row1 col8\" >0.01</td>\n",
       "      <td id=\"T_ab6fb_row1_col9\" class=\"data row1 col9\" >0.18</td>\n",
       "      <td id=\"T_ab6fb_row1_col10\" class=\"data row1 col10\" >-0.07</td>\n",
       "      <td id=\"T_ab6fb_row1_col11\" class=\"data row1 col11\" >0.16</td>\n",
       "    </tr>\n",
       "    <tr>\n",
       "      <th id=\"T_ab6fb_level0_row2\" class=\"row_heading level0 row2\" >Dependents</th>\n",
       "      <td id=\"T_ab6fb_row2_col0\" class=\"data row2 col0\" >0.19</td>\n",
       "      <td id=\"T_ab6fb_row2_col1\" class=\"data row2 col1\" >0.36</td>\n",
       "      <td id=\"T_ab6fb_row2_col2\" class=\"data row2 col2\" >1.00</td>\n",
       "      <td id=\"T_ab6fb_row2_col3\" class=\"data row2 col3\" >0.05</td>\n",
       "      <td id=\"T_ab6fb_row2_col4\" class=\"data row2 col4\" >0.05</td>\n",
       "      <td id=\"T_ab6fb_row2_col5\" class=\"data row2 col5\" >-0.04</td>\n",
       "      <td id=\"T_ab6fb_row2_col6\" class=\"data row2 col6\" >0.01</td>\n",
       "      <td id=\"T_ab6fb_row2_col7\" class=\"data row2 col7\" >0.02</td>\n",
       "      <td id=\"T_ab6fb_row2_col8\" class=\"data row2 col8\" >0.10</td>\n",
       "      <td id=\"T_ab6fb_row2_col9\" class=\"data row2 col9\" >0.14</td>\n",
       "      <td id=\"T_ab6fb_row2_col10\" class=\"data row2 col10\" >-0.07</td>\n",
       "      <td id=\"T_ab6fb_row2_col11\" class=\"data row2 col11\" >0.09</td>\n",
       "    </tr>\n",
       "    <tr>\n",
       "      <th id=\"T_ab6fb_level0_row3\" class=\"row_heading level0 row3\" >Education</th>\n",
       "      <td id=\"T_ab6fb_row3_col0\" class=\"data row3 col0\" >0.05</td>\n",
       "      <td id=\"T_ab6fb_row3_col1\" class=\"data row3 col1\" >0.01</td>\n",
       "      <td id=\"T_ab6fb_row3_col2\" class=\"data row3 col2\" >0.05</td>\n",
       "      <td id=\"T_ab6fb_row3_col3\" class=\"data row3 col3\" >1.00</td>\n",
       "      <td id=\"T_ab6fb_row3_col4\" class=\"data row3 col4\" >-0.00</td>\n",
       "      <td id=\"T_ab6fb_row3_col5\" class=\"data row3 col5\" >-0.04</td>\n",
       "      <td id=\"T_ab6fb_row3_col6\" class=\"data row3 col6\" >-0.08</td>\n",
       "      <td id=\"T_ab6fb_row3_col7\" class=\"data row3 col7\" >-0.05</td>\n",
       "      <td id=\"T_ab6fb_row3_col8\" class=\"data row3 col8\" >-0.17</td>\n",
       "      <td id=\"T_ab6fb_row3_col9\" class=\"data row3 col9\" >-0.15</td>\n",
       "      <td id=\"T_ab6fb_row3_col10\" class=\"data row3 col10\" >-0.06</td>\n",
       "      <td id=\"T_ab6fb_row3_col11\" class=\"data row3 col11\" >-0.19</td>\n",
       "    </tr>\n",
       "    <tr>\n",
       "      <th id=\"T_ab6fb_level0_row4\" class=\"row_heading level0 row4\" >Self_Employed</th>\n",
       "      <td id=\"T_ab6fb_row4_col0\" class=\"data row4 col0\" >-0.01</td>\n",
       "      <td id=\"T_ab6fb_row4_col1\" class=\"data row4 col1\" >-0.01</td>\n",
       "      <td id=\"T_ab6fb_row4_col2\" class=\"data row4 col2\" >0.05</td>\n",
       "      <td id=\"T_ab6fb_row4_col3\" class=\"data row4 col3\" >-0.00</td>\n",
       "      <td id=\"T_ab6fb_row4_col4\" class=\"data row4 col4\" >1.00</td>\n",
       "      <td id=\"T_ab6fb_row4_col5\" class=\"data row4 col5\" >-0.03</td>\n",
       "      <td id=\"T_ab6fb_row4_col6\" class=\"data row4 col6\" >-0.03</td>\n",
       "      <td id=\"T_ab6fb_row4_col7\" class=\"data row4 col7\" >-0.03</td>\n",
       "      <td id=\"T_ab6fb_row4_col8\" class=\"data row4 col8\" >0.22</td>\n",
       "      <td id=\"T_ab6fb_row4_col9\" class=\"data row4 col9\" >0.11</td>\n",
       "      <td id=\"T_ab6fb_row4_col10\" class=\"data row4 col10\" >-0.03</td>\n",
       "      <td id=\"T_ab6fb_row4_col11\" class=\"data row4 col11\" >0.20</td>\n",
       "    </tr>\n",
       "    <tr>\n",
       "      <th id=\"T_ab6fb_level0_row5\" class=\"row_heading level0 row5\" >Credit_History</th>\n",
       "      <td id=\"T_ab6fb_row5_col0\" class=\"data row5 col0\" >0.01</td>\n",
       "      <td id=\"T_ab6fb_row5_col1\" class=\"data row5 col1\" >0.02</td>\n",
       "      <td id=\"T_ab6fb_row5_col2\" class=\"data row5 col2\" >-0.04</td>\n",
       "      <td id=\"T_ab6fb_row5_col3\" class=\"data row5 col3\" >-0.04</td>\n",
       "      <td id=\"T_ab6fb_row5_col4\" class=\"data row5 col4\" >-0.03</td>\n",
       "      <td id=\"T_ab6fb_row5_col5\" class=\"data row5 col5\" >1.00</td>\n",
       "      <td id=\"T_ab6fb_row5_col6\" class=\"data row5 col6\" >-0.00</td>\n",
       "      <td id=\"T_ab6fb_row5_col7\" class=\"data row5 col7\" >0.51</td>\n",
       "      <td id=\"T_ab6fb_row5_col8\" class=\"data row5 col8\" >-0.01</td>\n",
       "      <td id=\"T_ab6fb_row5_col9\" class=\"data row5 col9\" >-0.03</td>\n",
       "      <td id=\"T_ab6fb_row5_col10\" class=\"data row5 col10\" >0.01</td>\n",
       "      <td id=\"T_ab6fb_row5_col11\" class=\"data row5 col11\" >0.01</td>\n",
       "    </tr>\n",
       "    <tr>\n",
       "      <th id=\"T_ab6fb_level0_row6\" class=\"row_heading level0 row6\" >Property_Area</th>\n",
       "      <td id=\"T_ab6fb_row6_col0\" class=\"data row6 col0\" >-0.00</td>\n",
       "      <td id=\"T_ab6fb_row6_col1\" class=\"data row6 col1\" >0.03</td>\n",
       "      <td id=\"T_ab6fb_row6_col2\" class=\"data row6 col2\" >0.01</td>\n",
       "      <td id=\"T_ab6fb_row6_col3\" class=\"data row6 col3\" >-0.08</td>\n",
       "      <td id=\"T_ab6fb_row6_col4\" class=\"data row6 col4\" >-0.03</td>\n",
       "      <td id=\"T_ab6fb_row6_col5\" class=\"data row6 col5\" >-0.00</td>\n",
       "      <td id=\"T_ab6fb_row6_col6\" class=\"data row6 col6\" >1.00</td>\n",
       "      <td id=\"T_ab6fb_row6_col7\" class=\"data row6 col7\" >0.05</td>\n",
       "      <td id=\"T_ab6fb_row6_col8\" class=\"data row6 col8\" >-0.03</td>\n",
       "      <td id=\"T_ab6fb_row6_col9\" class=\"data row6 col9\" >-0.09</td>\n",
       "      <td id=\"T_ab6fb_row6_col10\" class=\"data row6 col10\" >-0.08</td>\n",
       "      <td id=\"T_ab6fb_row6_col11\" class=\"data row6 col11\" >-0.05</td>\n",
       "    </tr>\n",
       "    <tr>\n",
       "      <th id=\"T_ab6fb_level0_row7\" class=\"row_heading level0 row7\" >Loan_Status</th>\n",
       "      <td id=\"T_ab6fb_row7_col0\" class=\"data row7 col0\" >0.03</td>\n",
       "      <td id=\"T_ab6fb_row7_col1\" class=\"data row7 col1\" >0.10</td>\n",
       "      <td id=\"T_ab6fb_row7_col2\" class=\"data row7 col2\" >0.02</td>\n",
       "      <td id=\"T_ab6fb_row7_col3\" class=\"data row7 col3\" >-0.05</td>\n",
       "      <td id=\"T_ab6fb_row7_col4\" class=\"data row7 col4\" >-0.03</td>\n",
       "      <td id=\"T_ab6fb_row7_col5\" class=\"data row7 col5\" >0.51</td>\n",
       "      <td id=\"T_ab6fb_row7_col6\" class=\"data row7 col6\" >0.05</td>\n",
       "      <td id=\"T_ab6fb_row7_col7\" class=\"data row7 col7\" >1.00</td>\n",
       "      <td id=\"T_ab6fb_row7_col8\" class=\"data row7 col8\" >-0.01</td>\n",
       "      <td id=\"T_ab6fb_row7_col9\" class=\"data row7 col9\" >-0.05</td>\n",
       "      <td id=\"T_ab6fb_row7_col10\" class=\"data row7 col10\" >-0.00</td>\n",
       "      <td id=\"T_ab6fb_row7_col11\" class=\"data row7 col11\" >-0.01</td>\n",
       "    </tr>\n",
       "    <tr>\n",
       "      <th id=\"T_ab6fb_level0_row8\" class=\"row_heading level0 row8\" >ApplicantIncome_log</th>\n",
       "      <td id=\"T_ab6fb_row8_col0\" class=\"data row8 col0\" >0.09</td>\n",
       "      <td id=\"T_ab6fb_row8_col1\" class=\"data row8 col1\" >0.01</td>\n",
       "      <td id=\"T_ab6fb_row8_col2\" class=\"data row8 col2\" >0.10</td>\n",
       "      <td id=\"T_ab6fb_row8_col3\" class=\"data row8 col3\" >-0.17</td>\n",
       "      <td id=\"T_ab6fb_row8_col4\" class=\"data row8 col4\" >0.22</td>\n",
       "      <td id=\"T_ab6fb_row8_col5\" class=\"data row8 col5\" >-0.01</td>\n",
       "      <td id=\"T_ab6fb_row8_col6\" class=\"data row8 col6\" >-0.03</td>\n",
       "      <td id=\"T_ab6fb_row8_col7\" class=\"data row8 col7\" >-0.01</td>\n",
       "      <td id=\"T_ab6fb_row8_col8\" class=\"data row8 col8\" >1.00</td>\n",
       "      <td id=\"T_ab6fb_row8_col9\" class=\"data row8 col9\" >0.50</td>\n",
       "      <td id=\"T_ab6fb_row8_col10\" class=\"data row8 col10\" >-0.01</td>\n",
       "      <td id=\"T_ab6fb_row8_col11\" class=\"data row8 col11\" >0.68</td>\n",
       "    </tr>\n",
       "    <tr>\n",
       "      <th id=\"T_ab6fb_level0_row9\" class=\"row_heading level0 row9\" >LoanAmount_log</th>\n",
       "      <td id=\"T_ab6fb_row9_col0\" class=\"data row9 col0\" >0.14</td>\n",
       "      <td id=\"T_ab6fb_row9_col1\" class=\"data row9 col1\" >0.18</td>\n",
       "      <td id=\"T_ab6fb_row9_col2\" class=\"data row9 col2\" >0.14</td>\n",
       "      <td id=\"T_ab6fb_row9_col3\" class=\"data row9 col3\" >-0.15</td>\n",
       "      <td id=\"T_ab6fb_row9_col4\" class=\"data row9 col4\" >0.11</td>\n",
       "      <td id=\"T_ab6fb_row9_col5\" class=\"data row9 col5\" >-0.03</td>\n",
       "      <td id=\"T_ab6fb_row9_col6\" class=\"data row9 col6\" >-0.09</td>\n",
       "      <td id=\"T_ab6fb_row9_col7\" class=\"data row9 col7\" >-0.05</td>\n",
       "      <td id=\"T_ab6fb_row9_col8\" class=\"data row9 col8\" >0.50</td>\n",
       "      <td id=\"T_ab6fb_row9_col9\" class=\"data row9 col9\" >1.00</td>\n",
       "      <td id=\"T_ab6fb_row9_col10\" class=\"data row9 col10\" >0.09</td>\n",
       "      <td id=\"T_ab6fb_row9_col11\" class=\"data row9 col11\" >0.67</td>\n",
       "    </tr>\n",
       "    <tr>\n",
       "      <th id=\"T_ab6fb_level0_row10\" class=\"row_heading level0 row10\" >Loan_Amount_Term_log</th>\n",
       "      <td id=\"T_ab6fb_row10_col0\" class=\"data row10 col0\" >-0.07</td>\n",
       "      <td id=\"T_ab6fb_row10_col1\" class=\"data row10 col1\" >-0.07</td>\n",
       "      <td id=\"T_ab6fb_row10_col2\" class=\"data row10 col2\" >-0.07</td>\n",
       "      <td id=\"T_ab6fb_row10_col3\" class=\"data row10 col3\" >-0.06</td>\n",
       "      <td id=\"T_ab6fb_row10_col4\" class=\"data row10 col4\" >-0.03</td>\n",
       "      <td id=\"T_ab6fb_row10_col5\" class=\"data row10 col5\" >0.01</td>\n",
       "      <td id=\"T_ab6fb_row10_col6\" class=\"data row10 col6\" >-0.08</td>\n",
       "      <td id=\"T_ab6fb_row10_col7\" class=\"data row10 col7\" >-0.00</td>\n",
       "      <td id=\"T_ab6fb_row10_col8\" class=\"data row10 col8\" >-0.01</td>\n",
       "      <td id=\"T_ab6fb_row10_col9\" class=\"data row10 col9\" >0.09</td>\n",
       "      <td id=\"T_ab6fb_row10_col10\" class=\"data row10 col10\" >1.00</td>\n",
       "      <td id=\"T_ab6fb_row10_col11\" class=\"data row10 col11\" >-0.01</td>\n",
       "    </tr>\n",
       "    <tr>\n",
       "      <th id=\"T_ab6fb_level0_row11\" class=\"row_heading level0 row11\" >Total_Income_log</th>\n",
       "      <td id=\"T_ab6fb_row11_col0\" class=\"data row11 col0\" >0.20</td>\n",
       "      <td id=\"T_ab6fb_row11_col1\" class=\"data row11 col1\" >0.16</td>\n",
       "      <td id=\"T_ab6fb_row11_col2\" class=\"data row11 col2\" >0.09</td>\n",
       "      <td id=\"T_ab6fb_row11_col3\" class=\"data row11 col3\" >-0.19</td>\n",
       "      <td id=\"T_ab6fb_row11_col4\" class=\"data row11 col4\" >0.20</td>\n",
       "      <td id=\"T_ab6fb_row11_col5\" class=\"data row11 col5\" >0.01</td>\n",
       "      <td id=\"T_ab6fb_row11_col6\" class=\"data row11 col6\" >-0.05</td>\n",
       "      <td id=\"T_ab6fb_row11_col7\" class=\"data row11 col7\" >-0.01</td>\n",
       "      <td id=\"T_ab6fb_row11_col8\" class=\"data row11 col8\" >0.68</td>\n",
       "      <td id=\"T_ab6fb_row11_col9\" class=\"data row11 col9\" >0.67</td>\n",
       "      <td id=\"T_ab6fb_row11_col10\" class=\"data row11 col10\" >-0.01</td>\n",
       "      <td id=\"T_ab6fb_row11_col11\" class=\"data row11 col11\" >1.00</td>\n",
       "    </tr>\n",
       "  </tbody>\n",
       "</table>\n"
      ],
      "text/plain": [
       "<pandas.io.formats.style.Styler at 0x139b33b90>"
      ]
     },
     "execution_count": 26,
     "metadata": {},
     "output_type": "execute_result"
    }
   ],
   "source": [
    "# Compute correlation matrix\n",
    "corr = df.corr()\n",
    "corr.style.background_gradient(cmap='coolwarm').format(precision=2)"
   ]
  },
  {
   "cell_type": "code",
   "execution_count": 27,
   "id": "1c3f29f7-55e8-4990-970d-2584493df66f",
   "metadata": {},
   "outputs": [],
   "source": [
    "### Note on Multicollinearity.\n",
    "##Since the correlation coefficients between variables are less than 90%, \n",
    "##there is no significant issue of multicollinearity in the dataset. \n",
    "##This indicates that the predictor variables are not highly correlated, and the model is unlikely to suffer from instability due to multicollinearity.\n",
    "\n",
    "\n"
   ]
  },
  {
   "cell_type": "code",
   "execution_count": 28,
   "id": "63eb5bf8-e14a-48d1-b4e8-94871876fbfa",
   "metadata": {},
   "outputs": [
    {
     "data": {
      "text/plain": [
       "<Axes: >"
      ]
     },
     "execution_count": 28,
     "metadata": {},
     "output_type": "execute_result"
    },
    {
     "data": {
      "image/png": "[encoded data removed]",
      "text/plain": [
       "<Figure size 2000x800 with 1 Axes>"
      ]
     },
     "metadata": {},
     "output_type": "display_data"
    }
   ],
   "source": [
    "##Checking the Outliers:\n",
    "plt.figure(figsize=(20,8))\n",
    "sns.boxplot(data = df)"
   ]
  },
  {
   "cell_type": "code",
   "execution_count": 29,
   "id": "a4a5fc74-7e24-4eaf-8b33-4700b83025fc",
   "metadata": {},
   "outputs": [],
   "source": [
    "columns = ['Credit_History', 'ApplicantIncome_log', 'LoanAmount_log', 'Total_Income_log', 'Loan_Amount_Term_log']\n",
    "\n",
    "def remove_outliers_iqr(data, cols):\n",
    "    for col in cols:\n",
    "        Q1 = data[col].quantile(0.25)\n",
    "        Q3 = data[col].quantile(0.75)\n",
    "        IQR = Q3 - Q1\n",
    "        lower_bound = Q1 - 1.5 * IQR\n",
    "        upper_bound = Q3 + 1.5 * IQR\n",
    "        \n",
    "        # Filter out the outliers\n",
    "        data = data[(data[col] >= lower_bound) & (data[col] <= upper_bound)]\n",
    "    return data\n",
    "\n",
    "# Remove outliers from specified columns\n",
    "df = remove_outliers_iqr(df, columns)\n"
   ]
  },
  {
   "cell_type": "code",
   "execution_count": 30,
   "id": "fe833d18-635c-4073-b735-517f67fd3626",
   "metadata": {},
   "outputs": [
    {
     "data": {
      "text/plain": [
       "<Axes: >"
      ]
     },
     "execution_count": 30,
     "metadata": {},
     "output_type": "execute_result"
    },
    {
     "data": {
      "image/png": "[encoded data removed]",
      "text/plain": [
       "<Figure size 2000x800 with 1 Axes>"
      ]
     },
     "metadata": {},
     "output_type": "display_data"
    }
   ],
   "source": [
    "##Checking the Outliers:\n",
    "plt.figure(figsize=(20,8))\n",
    "sns.boxplot(data = df)"
   ]
  },
  {
   "cell_type": "code",
   "execution_count": 31,
   "id": "ae2b05fd-24ff-4d25-b09e-3c0aed038d00",
   "metadata": {},
   "outputs": [
    {
     "name": "stdout",
     "output_type": "stream",
     "text": [
      "The percentage of loan approved: 80.68%\n",
      "The percentage of loan not approved: 19.32%\n"
     ]
    },
    {
     "data": {
      "image/png": "[encoded data removed]",
      "text/plain": [
       "<Figure size 500x600 with 1 Axes>"
      ]
     },
     "metadata": {},
     "output_type": "display_data"
    }
   ],
   "source": [
    "plt.figure(figsize=(5, 6))\n",
    "sns.countplot(x='Loan_Status', data=df)\n",
    "plt.title('Loan Status Distribution')\n",
    "\n",
    "loan_approved_percentage = (df['Loan_Status'].value_counts()[1] / len(df)) * 100\n",
    "loan_not_approved_percentage = (df['Loan_Status'].value_counts() [0]/ len(df)) * 100\n",
    "\n",
    "print('The percentage of loan approved: %.2f%%' % loan_approved_percentage)\n",
    "print('The percentage of loan not approved: %.2f%%' % loan_not_approved_percentage)"
   ]
  },
  {
   "cell_type": "code",
   "execution_count": 32,
   "id": "866d0b32-84cc-4a14-97da-0bd7ec313681",
   "metadata": {},
   "outputs": [
    {
     "ename": "AttributeError",
     "evalue": "'numpy.int64' object has no attribute 'startswith'",
     "output_type": "error",
     "traceback": [
      "\u001b[0;31m---------------------------------------------------------------------------\u001b[0m",
      "\u001b[0;31mAttributeError\u001b[0m                            Traceback (most recent call last)",
      "Cell \u001b[0;32mIn[32], line 3\u001b[0m\n\u001b[1;32m      1\u001b[0m \u001b[38;5;66;03m# Marital_status Vs Loan_status:\u001b[39;00m\n\u001b[1;32m      2\u001b[0m plt\u001b[38;5;241m.\u001b[39mfigure(figsize\u001b[38;5;241m=\u001b[39m(\u001b[38;5;241m8\u001b[39m,\u001b[38;5;241m5\u001b[39m))\n\u001b[0;32m----> 3\u001b[0m sns\u001b[38;5;241m.\u001b[39mcountplot(x\u001b[38;5;241m=\u001b[39m\u001b[38;5;124m'\u001b[39m\u001b[38;5;124mMarried\u001b[39m\u001b[38;5;124m'\u001b[39m, hue\u001b[38;5;241m=\u001b[39m\u001b[38;5;124m'\u001b[39m\u001b[38;5;124mLoan_Status\u001b[39m\u001b[38;5;124m'\u001b[39m, data\u001b[38;5;241m=\u001b[39mdf)\n",
      "File \u001b[0;32m/opt/anaconda3/lib/python3.11/site-packages/seaborn/categorical.py:2955\u001b[0m, in \u001b[0;36mcountplot\u001b[0;34m(data, x, y, hue, order, hue_order, orient, color, palette, saturation, width, dodge, ax, **kwargs)\u001b[0m\n\u001b[1;32m   2952\u001b[0m \u001b[38;5;28;01mif\u001b[39;00m ax \u001b[38;5;129;01mis\u001b[39;00m \u001b[38;5;28;01mNone\u001b[39;00m:\n\u001b[1;32m   2953\u001b[0m     ax \u001b[38;5;241m=\u001b[39m plt\u001b[38;5;241m.\u001b[39mgca()\n\u001b[0;32m-> 2955\u001b[0m plotter\u001b[38;5;241m.\u001b[39mplot(ax, kwargs)\n\u001b[1;32m   2956\u001b[0m \u001b[38;5;28;01mreturn\u001b[39;00m ax\n",
      "File \u001b[0;32m/opt/anaconda3/lib/python3.11/site-packages/seaborn/categorical.py:1587\u001b[0m, in \u001b[0;36m_BarPlotter.plot\u001b[0;34m(self, ax, bar_kws)\u001b[0m\n\u001b[1;32m   1585\u001b[0m \u001b[38;5;250m\u001b[39m\u001b[38;5;124;03m\"\"\"Make the plot.\"\"\"\u001b[39;00m\n\u001b[1;32m   1586\u001b[0m \u001b[38;5;28mself\u001b[39m\u001b[38;5;241m.\u001b[39mdraw_bars(ax, bar_kws)\n\u001b[0;32m-> 1587\u001b[0m \u001b[38;5;28mself\u001b[39m\u001b[38;5;241m.\u001b[39mannotate_axes(ax)\n\u001b[1;32m   1588\u001b[0m \u001b[38;5;28;01mif\u001b[39;00m \u001b[38;5;28mself\u001b[39m\u001b[38;5;241m.\u001b[39morient \u001b[38;5;241m==\u001b[39m \u001b[38;5;124m\"\u001b[39m\u001b[38;5;124mh\u001b[39m\u001b[38;5;124m\"\u001b[39m:\n\u001b[1;32m   1589\u001b[0m     ax\u001b[38;5;241m.\u001b[39minvert_yaxis()\n",
      "File \u001b[0;32m/opt/anaconda3/lib/python3.11/site-packages/seaborn/categorical.py:767\u001b[0m, in \u001b[0;36m_CategoricalPlotter.annotate_axes\u001b[0;34m(self, ax)\u001b[0m\n\u001b[1;32m    764\u001b[0m     ax\u001b[38;5;241m.\u001b[39mset_ylim(\u001b[38;5;241m-\u001b[39m\u001b[38;5;241m.5\u001b[39m, \u001b[38;5;28mlen\u001b[39m(\u001b[38;5;28mself\u001b[39m\u001b[38;5;241m.\u001b[39mplot_data) \u001b[38;5;241m-\u001b[39m \u001b[38;5;241m.5\u001b[39m, auto\u001b[38;5;241m=\u001b[39m\u001b[38;5;28;01mNone\u001b[39;00m)\n\u001b[1;32m    766\u001b[0m \u001b[38;5;28;01mif\u001b[39;00m \u001b[38;5;28mself\u001b[39m\u001b[38;5;241m.\u001b[39mhue_names \u001b[38;5;129;01mis\u001b[39;00m \u001b[38;5;129;01mnot\u001b[39;00m \u001b[38;5;28;01mNone\u001b[39;00m:\n\u001b[0;32m--> 767\u001b[0m     ax\u001b[38;5;241m.\u001b[39mlegend(loc\u001b[38;5;241m=\u001b[39m\u001b[38;5;124m\"\u001b[39m\u001b[38;5;124mbest\u001b[39m\u001b[38;5;124m\"\u001b[39m, title\u001b[38;5;241m=\u001b[39m\u001b[38;5;28mself\u001b[39m\u001b[38;5;241m.\u001b[39mhue_title)\n",
      "File \u001b[0;32m/opt/anaconda3/lib/python3.11/site-packages/matplotlib/axes/_axes.py:322\u001b[0m, in \u001b[0;36mAxes.legend\u001b[0;34m(self, *args, **kwargs)\u001b[0m\n\u001b[1;32m    204\u001b[0m \u001b[38;5;129m@_docstring\u001b[39m\u001b[38;5;241m.\u001b[39mdedent_interpd\n\u001b[1;32m    205\u001b[0m \u001b[38;5;28;01mdef\u001b[39;00m \u001b[38;5;21mlegend\u001b[39m(\u001b[38;5;28mself\u001b[39m, \u001b[38;5;241m*\u001b[39margs, \u001b[38;5;241m*\u001b[39m\u001b[38;5;241m*\u001b[39mkwargs):\n\u001b[1;32m    206\u001b[0m \u001b[38;5;250m    \u001b[39m\u001b[38;5;124;03m\"\"\"\u001b[39;00m\n\u001b[1;32m    207\u001b[0m \u001b[38;5;124;03m    Place a legend on the Axes.\u001b[39;00m\n\u001b[1;32m    208\u001b[0m \n\u001b[0;32m   (...)\u001b[0m\n\u001b[1;32m    320\u001b[0m \u001b[38;5;124;03m    .. plot:: gallery/text_labels_and_annotations/legend.py\u001b[39;00m\n\u001b[1;32m    321\u001b[0m \u001b[38;5;124;03m    \"\"\"\u001b[39;00m\n\u001b[0;32m--> 322\u001b[0m     handles, labels, kwargs \u001b[38;5;241m=\u001b[39m mlegend\u001b[38;5;241m.\u001b[39m_parse_legend_args([\u001b[38;5;28mself\u001b[39m], \u001b[38;5;241m*\u001b[39margs, \u001b[38;5;241m*\u001b[39m\u001b[38;5;241m*\u001b[39mkwargs)\n\u001b[1;32m    323\u001b[0m     \u001b[38;5;28mself\u001b[39m\u001b[38;5;241m.\u001b[39mlegend_ \u001b[38;5;241m=\u001b[39m mlegend\u001b[38;5;241m.\u001b[39mLegend(\u001b[38;5;28mself\u001b[39m, handles, labels, \u001b[38;5;241m*\u001b[39m\u001b[38;5;241m*\u001b[39mkwargs)\n\u001b[1;32m    324\u001b[0m     \u001b[38;5;28mself\u001b[39m\u001b[38;5;241m.\u001b[39mlegend_\u001b[38;5;241m.\u001b[39m_remove_method \u001b[38;5;241m=\u001b[39m \u001b[38;5;28mself\u001b[39m\u001b[38;5;241m.\u001b[39m_remove_legend\n",
      "File \u001b[0;32m/opt/anaconda3/lib/python3.11/site-packages/matplotlib/legend.py:1361\u001b[0m, in \u001b[0;36m_parse_legend_args\u001b[0;34m(axs, handles, labels, *args, **kwargs)\u001b[0m\n\u001b[1;32m   1357\u001b[0m     handles \u001b[38;5;241m=\u001b[39m [handle \u001b[38;5;28;01mfor\u001b[39;00m handle, label\n\u001b[1;32m   1358\u001b[0m                \u001b[38;5;129;01min\u001b[39;00m \u001b[38;5;28mzip\u001b[39m(_get_legend_handles(axs, handlers), labels)]\n\u001b[1;32m   1360\u001b[0m \u001b[38;5;28;01melif\u001b[39;00m \u001b[38;5;28mlen\u001b[39m(args) \u001b[38;5;241m==\u001b[39m \u001b[38;5;241m0\u001b[39m:  \u001b[38;5;66;03m# 0 args: automatically detect labels and handles.\u001b[39;00m\n\u001b[0;32m-> 1361\u001b[0m     handles, labels \u001b[38;5;241m=\u001b[39m _get_legend_handles_labels(axs, handlers)\n\u001b[1;32m   1362\u001b[0m     \u001b[38;5;28;01mif\u001b[39;00m \u001b[38;5;129;01mnot\u001b[39;00m handles:\n\u001b[1;32m   1363\u001b[0m         log\u001b[38;5;241m.\u001b[39mwarning(\n\u001b[1;32m   1364\u001b[0m             \u001b[38;5;124m\"\u001b[39m\u001b[38;5;124mNo artists with labels found to put in legend.  Note that \u001b[39m\u001b[38;5;124m\"\u001b[39m\n\u001b[1;32m   1365\u001b[0m             \u001b[38;5;124m\"\u001b[39m\u001b[38;5;124martists whose label start with an underscore are ignored \u001b[39m\u001b[38;5;124m\"\u001b[39m\n\u001b[1;32m   1366\u001b[0m             \u001b[38;5;124m\"\u001b[39m\u001b[38;5;124mwhen legend() is called with no argument.\u001b[39m\u001b[38;5;124m\"\u001b[39m)\n",
      "File \u001b[0;32m/opt/anaconda3/lib/python3.11/site-packages/matplotlib/legend.py:1291\u001b[0m, in \u001b[0;36m_get_legend_handles_labels\u001b[0;34m(axs, legend_handler_map)\u001b[0m\n\u001b[1;32m   1289\u001b[0m \u001b[38;5;28;01mfor\u001b[39;00m handle \u001b[38;5;129;01min\u001b[39;00m _get_legend_handles(axs, legend_handler_map):\n\u001b[1;32m   1290\u001b[0m     label \u001b[38;5;241m=\u001b[39m handle\u001b[38;5;241m.\u001b[39mget_label()\n\u001b[0;32m-> 1291\u001b[0m     \u001b[38;5;28;01mif\u001b[39;00m label \u001b[38;5;129;01mand\u001b[39;00m \u001b[38;5;129;01mnot\u001b[39;00m label\u001b[38;5;241m.\u001b[39mstartswith(\u001b[38;5;124m'\u001b[39m\u001b[38;5;124m_\u001b[39m\u001b[38;5;124m'\u001b[39m):\n\u001b[1;32m   1292\u001b[0m         handles\u001b[38;5;241m.\u001b[39mappend(handle)\n\u001b[1;32m   1293\u001b[0m         labels\u001b[38;5;241m.\u001b[39mappend(label)\n",
      "\u001b[0;31mAttributeError\u001b[0m: 'numpy.int64' object has no attribute 'startswith'"
     ]
    },
    {
     "data": {
      "image/png": "[encoded data removed]",
      "text/plain": [
       "<Figure size 800x500 with 1 Axes>"
      ]
     },
     "metadata": {},
     "output_type": "display_data"
    }
   ],
   "source": [
    "# Marital_status Vs Loan_status:\n",
    "plt.figure(figsize=(8,5))\n",
    "sns.countplot(x='Married', hue='Loan_Status', data=df)"
   ]
  },
  {
   "cell_type": "code",
   "execution_count": null,
   "id": "fd51dc10-7201-4b2a-84a7-45f264929e4a",
   "metadata": {},
   "outputs": [],
   "source": [
    "plt.figure(figsize=(8,5))\n",
    "sns.countplot(x='Gender', hue='Loan_Status', data=df)"
   ]
  },
  {
   "cell_type": "code",
   "execution_count": null,
   "id": "9e3e8320-e83c-4394-8f99-1f46cb205a25",
   "metadata": {},
   "outputs": [],
   "source": [
    "plt.figure(figsize=(10,5))\n",
    "sns.countplot(x='Dependents', hue='Loan_Status', data=df)"
   ]
  },
  {
   "cell_type": "code",
   "execution_count": null,
   "id": "f0583a48-b8ac-47aa-bc06-92d9317b750e",
   "metadata": {},
   "outputs": [],
   "source": [
    "plt.figure(figsize=(6,5))\n",
    "sns.countplot(x='Education', hue='Loan_Status', data=df)"
   ]
  },
  {
   "cell_type": "code",
   "execution_count": null,
   "id": "d92a0c7f-0479-48d2-8680-11bd48ccffdf",
   "metadata": {},
   "outputs": [],
   "source": [
    "plt.figure(figsize=(6,5))\n",
    "sns.countplot(x='Self_Employed', hue='Loan_Status', data=df)"
   ]
  },
  {
   "cell_type": "code",
   "execution_count": null,
   "id": "328cf70d-da32-4294-8684-94bf8b21b66f",
   "metadata": {},
   "outputs": [],
   "source": [
    "df[\"Credit_History\"]"
   ]
  },
  {
   "cell_type": "code",
   "execution_count": null,
   "id": "be2e5ca8-9888-42fc-b235-29b588332e49",
   "metadata": {},
   "outputs": [],
   "source": [
    "plt.figure(figsize=(10,5))\n",
    "sns.countplot(x='Credit_History', hue='Loan_Status', data=df)"
   ]
  },
  {
   "cell_type": "code",
   "execution_count": null,
   "id": "27ee59e0-a9f5-4f4c-9bfc-ec4b0cb46b74",
   "metadata": {},
   "outputs": [],
   "source": [
    "df[\"Dependents\"].unique()"
   ]
  },
  {
   "cell_type": "code",
   "execution_count": null,
   "id": "3f080e56-af02-48d2-889e-4453f8777d40",
   "metadata": {},
   "outputs": [],
   "source": [
    "df[\"Dependents\"] = df[\"Dependents\"].replace(to_replace = \"3+\", value =  \"4\")"
   ]
  },
  {
   "cell_type": "code",
   "execution_count": null,
   "id": "972fec89-b0ab-4741-b2ff-d393a6a835fc",
   "metadata": {},
   "outputs": [],
   "source": []
  },
  {
   "cell_type": "code",
   "execution_count": null,
   "id": "70a3a170-53b7-48d6-9483-b06fa3dd2e03",
   "metadata": {},
   "outputs": [],
   "source": [
    "df.info()"
   ]
  },
  {
   "cell_type": "code",
   "execution_count": null,
   "id": "97e574b8-dbcd-4046-8c22-33c940c18246",
   "metadata": {},
   "outputs": [],
   "source": [
    "from sklearn.preprocessing import LabelEncoder\n",
    "le = LabelEncoder()\n",
    "columns_to_encode = df.iloc[:, [0, 1, 2, 3,4 ,6,7, 11]]\n",
    "for i in columns_to_encode:\n",
    "   df[i] = le.fit_transform(df[i])"
   ]
  },
  {
   "cell_type": "code",
   "execution_count": null,
   "id": "60a8b3cc-9d79-472b-9c27-a0787df0c804",
   "metadata": {},
   "outputs": [],
   "source": [
    "df.sample(5)"
   ]
  },
  {
   "cell_type": "code",
   "execution_count": null,
   "id": "2e02a3a7-8a53-4df6-af92-abd4dab0d3f2",
   "metadata": {},
   "outputs": [],
   "source": [
    "df.info()"
   ]
  },
  {
   "cell_type": "code",
   "execution_count": null,
   "id": "84dcfab3-4b37-4b33-b007-7fc05deb59ed",
   "metadata": {},
   "outputs": [],
   "source": [
    "df.sample(5)"
   ]
  },
  {
   "cell_type": "code",
   "execution_count": null,
   "id": "8dfaf2b9-be8a-4bcf-9380-19cb830b05b6",
   "metadata": {},
   "outputs": [],
   "source": [
    "from sklearn.model_selection import train_test_split\n",
    "X = df.drop('Loan_Status', axis = 1).values\n",
    "y = df['Loan_Status']\n",
    "X_train, X_test, y_train, y_test = train_test_split(X, y, test_size = 0.3, random_state = 0)"
   ]
  },
  {
   "cell_type": "code",
   "execution_count": null,
   "id": "5ce55c66-e5fc-403b-93b7-a3060b3c2d03",
   "metadata": {},
   "outputs": [],
   "source": [
    "from sklearn.model_selection import StratifiedShuffleSplit\n",
    "\n",
    "# Convert to NumPy arrays\n",
    "X = df.drop('Loan_Status', axis=1).values\n",
    "y = df['Loan_Status'].values\n",
    "\n",
    "sss = StratifiedShuffleSplit(n_splits=1, test_size=0.2, random_state=42)\n",
    "\n",
    "for train_idx, test_idx in sss.split(X, y):\n",
    "    X_train, X_test = X[train_idx], X[test_idx]\n",
    "    y_train, y_test = y[train_idx], y[test_idx]\n",
    "\n",
    "# Display shapes\n",
    "print('X_train shape:', X_train.shape)\n",
    "print('y_train shape:', y_train.shape)\n",
    "print('X_test shape:', X_test.shape)\n",
    "print('y_test shape:', y_test.shape)\n",
    "\n",
    "# Ratio of target labels in training, testing, and original data\n",
    "print('\\nRatio of target in y_train:', np.bincount(y_train) / len(y_train))\n",
    "print('Ratio of target in y_test:', np.bincount(y_test) / len(y_test))\n",
    "print('Ratio of target in original_data:', df['Loan_Status'].value_counts(normalize=True).values)"
   ]
  },
  {
   "cell_type": "code",
   "execution_count": null,
   "id": "4a31a5e5-6558-4325-aede-93bb1e639391",
   "metadata": {},
   "outputs": [],
   "source": []
  },
  {
   "cell_type": "code",
   "execution_count": null,
   "id": "d6680acb-cdfd-40d2-ad6e-767451a59b37",
   "metadata": {},
   "outputs": [],
   "source": []
  },
  {
   "cell_type": "code",
   "execution_count": null,
   "id": "5354988a-5c33-4831-b6dd-413587c745cf",
   "metadata": {},
   "outputs": [],
   "source": []
  },
  {
   "cell_type": "code",
   "execution_count": null,
   "id": "645eb833-ff93-42ab-b28a-3a17b3d50761",
   "metadata": {},
   "outputs": [],
   "source": [
    "from sklearn.metrics import confusion_matrix\n",
    "from sklearn.metrics import classification_report\n",
    "from sklearn.metrics import accuracy_score"
   ]
  },
  {
   "cell_type": "code",
   "execution_count": null,
   "id": "76f93bac-0279-48d8-8de5-11c26755419a",
   "metadata": {},
   "outputs": [],
   "source": []
  },
  {
   "cell_type": "code",
   "execution_count": null,
   "id": "6f02020a-2772-4ade-8fc2-aefbfa0e314d",
   "metadata": {},
   "outputs": [],
   "source": [
    "from sklearn.tree import DecisionTreeClassifier\n",
    "from sklearn.ensemble import RandomForestClassifier\n",
    "from sklearn.linear_model import LogisticRegression\n",
    "from sklearn import svm\n",
    "from sklearn.naive_bayes import GaussianNB\n",
    "from xgboost import XGBClassifier\n",
    "from sklearn.neighbors import KNeighborsClassifier"
   ]
  },
  {
   "cell_type": "code",
   "execution_count": null,
   "id": "f6ab1f17-be9e-4491-bdcc-ed852bdef9a7",
   "metadata": {},
   "outputs": [],
   "source": [
    "DT = DecisionTreeClassifier()\n",
    "DT.fit(X_train, y_train)\n",
    "\n",
    "y_predict = DT.predict(X_test)\n",
    "\n",
    "#  prediction Summary by species\n",
    "print(classification_report(y_test, y_predict))\n",
    "\n",
    "# Accuracy score\n",
    "DT_SC = accuracy_score(y_predict,y_test)\n",
    "print(f\"{round(DT_SC*100,2)}% Accurate\")"
   ]
  },
  {
   "cell_type": "code",
   "execution_count": null,
   "id": "52a058cb-2216-4682-88ba-9ecae7c8cac2",
   "metadata": {},
   "outputs": [],
   "source": [
    "Decision_Tree=pd.DataFrame({'y_test':y_test,'prediction':y_predict})\n",
    "Decision_Tree.to_csv(\"Dection Tree.csv\")"
   ]
  },
  {
   "cell_type": "code",
   "execution_count": null,
   "id": "6a72acd1-9794-4c67-992d-f03979446c81",
   "metadata": {},
   "outputs": [],
   "source": [
    "RF = RandomForestClassifier()\n",
    "RF.fit(X_train, y_train)\n",
    "\n",
    "y_predict = RF.predict(X_test)\n",
    "\n",
    "#  prediction Summary by species\n",
    "print(classification_report(y_test, y_predict))\n",
    "\n",
    "# Accuracy score\n",
    "RF_SC = accuracy_score(y_predict,y_test)\n",
    "print(f\"Accuracy is: {round(RF_SC*100,2)}% \")"
   ]
  },
  {
   "cell_type": "code",
   "execution_count": null,
   "id": "40f8a2d2-326b-4e66-bb12-4b698b7366b2",
   "metadata": {},
   "outputs": [],
   "source": [
    "Random_Forest=pd.DataFrame({'y_test':y_test,'prediction':y_predict})\n",
    "Random_Forest.to_csv(\"Random Forest.csv\") "
   ]
  },
  {
   "cell_type": "code",
   "execution_count": null,
   "id": "f12b2e1f-6511-46f8-85a6-ad64d14ca20d",
   "metadata": {},
   "outputs": [],
   "source": [
    "LR = LogisticRegression()\n",
    "LR.fit(X_train, y_train)\n",
    "\n",
    "y_predict = LR.predict(X_test)\n",
    "\n",
    "#  prediction Summary by species\n",
    "print(classification_report(y_test, y_predict))\n",
    "\n",
    "# Accuracy score\n",
    "LR_SC = accuracy_score(y_predict,y_test)\n",
    "print(f\"Accuracy is: {round(LR_SC*100,2)}% \")"
   ]
  },
  {
   "cell_type": "code",
   "execution_count": null,
   "id": "f6d3ecdf-cfe1-4f9e-ae59-6f3645516231",
   "metadata": {},
   "outputs": [],
   "source": [
    "Logistic_Regression=pd.DataFrame({'y_test':y_test,'prediction':y_predict})\n",
    "Logistic_Regression.to_csv(\"Logistic Regression.csv\")  "
   ]
  },
  {
   "cell_type": "code",
   "execution_count": null,
   "id": "a843f81e-e80a-4836-89fb-c231a1b46267",
   "metadata": {},
   "outputs": [],
   "source": [
    "SVM = svm.SVC()\n",
    "SVM.fit(X_train, y_train)\n",
    "\n",
    "y_predict = SVM.predict(X_test)\n",
    "\n",
    "#  prediction Summary by species\n",
    "print(classification_report(y_test, y_predict))\n",
    "\n",
    "# Accuracy score\n",
    "SVM_SC = accuracy_score(y_predict,y_test)\n",
    "print(f\"Accuracy is : {round(SVM_SC*100,2)}% \")"
   ]
  },
  {
   "cell_type": "code",
   "execution_count": null,
   "id": "636b8f3f-af96-444a-a0f5-8fe5218e7941",
   "metadata": {},
   "outputs": [],
   "source": [
    "\n",
    "\n",
    "# Train Naive Bayes Classifier\n",
    "NB = GaussianNB()\n",
    "NB.fit(X_train, y_train)\n",
    "\n",
    "# Make Predictions\n",
    "y_predict_nb = NB.predict(X_test)\n",
    "\n",
    "# Classification Report\n",
    "print(\"Naive Bayes Classification Report:\")\n",
    "print(classification_report(y_test, y_predict_nb))\n",
    "\n",
    "# Accuracy Score\n",
    "NB_SC = accuracy_score(y_test, y_predict_nb)\n",
    "print(f\"Accuracy with Naive Bayes is: {round(NB_SC*100,2)}%\")\n"
   ]
  },
  {
   "cell_type": "code",
   "execution_count": null,
   "id": "7ece1826-b862-4105-9241-f44fd1d5419c",
   "metadata": {},
   "outputs": [],
   "source": [
    "NB =pd.DataFrame({'y_test':y_test,'prediction':y_predict})\n",
    "NB.to_csv(\"NB.csv\")"
   ]
  },
  {
   "cell_type": "code",
   "execution_count": null,
   "id": "a9a78663-07a2-4e19-b0e1-20d88a5a82c5",
   "metadata": {},
   "outputs": [],
   "source": [
    "# Train XGBoost Classifier\n",
    "XGB = XGBClassifier(use_label_encoder=False, eval_metric='logloss')  \n",
    "XGB.fit(X_train, y_train)\n",
    "\n",
    "# Make Predictions\n",
    "y_predict_xgb = XGB.predict(X_test)\n",
    "\n",
    "# Classification Report\n",
    "print(\"XGBoost Classification Report:\")\n",
    "print(classification_report(y_test, y_predict_xgb))\n",
    "\n",
    "# Accuracy Score\n",
    "XGB_SC = accuracy_score(y_test, y_predict_xgb)\n",
    "print(f\"Accuracy with XGBoost is: {round(XGB_SC*100,2)}%\")\n"
   ]
  },
  {
   "cell_type": "code",
   "execution_count": null,
   "id": "a445a6d1-5880-4cd5-b7d1-0e6eb3cbea40",
   "metadata": {},
   "outputs": [],
   "source": []
  },
  {
   "cell_type": "code",
   "execution_count": null,
   "id": "dc482194-907c-4a70-a213-de8ed0804184",
   "metadata": {},
   "outputs": [],
   "source": [
    "# Initialize KNN classifier\n",
    "KNN = KNeighborsClassifier(n_neighbors=5)\n",
    "\n",
    "# Train the KNN model\n",
    "KNN.fit(X_train, y_train)\n",
    "\n",
    "# Predict on test data\n",
    "y_predict = KNN.predict(X_test)\n",
    "\n",
    "# Prediction summary by species\n",
    "print(classification_report(y_test, y_predict))\n",
    "\n",
    "# Accuracy score\n",
    "KNN_SC = accuracy_score(y_predict, y_test)\n",
    "print(f\"Accuracy is : {round(KNN_SC * 100, 2)}%\")\n"
   ]
  },
  {
   "cell_type": "code",
   "execution_count": null,
   "id": "179d3e70-0c6e-4c0d-a570-17b75a7ec659",
   "metadata": {},
   "outputs": [],
   "source": []
  },
  {
   "cell_type": "code",
   "execution_count": null,
   "id": "bcbefae7-469e-4cfe-befe-4882955fa6ed",
   "metadata": {},
   "outputs": [],
   "source": [
    "score = [DT_SC,RF_SC,NB_SC,LR_SC,XGB_SC,SVM_SC,KNN_SC]\n",
    "Models = pd.DataFrame({\n",
    "    'Model': [\"Decision Tree\",\"Random Forest\",\"NB\", \"Logistic Regression\",\"XGB\",\"SVM\",\"KNN\"],\n",
    "    'Score': score})\n",
    "Models.sort_values(by='Score', ascending=False)"
   ]
  },
  {
   "cell_type": "code",
   "execution_count": null,
   "id": "45dcc100-1959-41e0-9a91-129a67d5e43b",
   "metadata": {},
   "outputs": [],
   "source": [
    "df[\"Loan_Status\"].value_counts()\n"
   ]
  },
  {
   "cell_type": "code",
   "execution_count": null,
   "id": "81224892-a2f7-49a9-a431-df4b1b095c22",
   "metadata": {},
   "outputs": [],
   "source": []
  },
  {
   "cell_type": "code",
   "execution_count": null,
   "id": "5c4a1a5c-01a7-4e6d-a718-fad62224f6b1",
   "metadata": {},
   "outputs": [],
   "source": [
    "from imblearn.over_sampling import RandomOverSampler\n",
    "oversample = RandomOverSampler(random_state=42)\n",
    "X_resampled, y_resampled = oversample.fit_resample(X, y)\n",
    "\n",
    "# Check if X has column names\n",
    "if isinstance(X, pd.DataFrame):\n",
    "    columns = X.columns\n",
    "else:\n",
    "    # Replace with actual column names if available\n",
    "    columns = [f\"feature_{i}\" for i in range(X.shape[1])]\n",
    "\n",
    "# Create the DataFrame\n",
    "df_resampled = pd.concat(\n",
    "    [pd.DataFrame(X_resampled, columns=columns), \n",
    "     pd.Series(y_resampled, name='Loan_Status')], \n",
    "    axis=1\n",
    ")\n"
   ]
  },
  {
   "cell_type": "code",
   "execution_count": null,
   "id": "e4e3829e-3873-4f81-b915-54ab83f46c23",
   "metadata": {},
   "outputs": [],
   "source": [
    "df_resampled[\"Loan_Status\"].value_counts()"
   ]
  },
  {
   "cell_type": "code",
   "execution_count": null,
   "id": "f2540a2f-f4b0-41df-9cb7-c4865b8f5dac",
   "metadata": {},
   "outputs": [],
   "source": []
  },
  {
   "cell_type": "code",
   "execution_count": null,
   "id": "5d57be34-5c40-4d23-bf6e-fecba2df655b",
   "metadata": {},
   "outputs": [],
   "source": [
    "from sklearn.tree import DecisionTreeClassifier\n",
    "from sklearn.ensemble import RandomForestClassifier\n",
    "from sklearn.linear_model import LogisticRegression\n",
    "from sklearn import svm\n",
    "from sklearn.naive_bayes import GaussianNB\n",
    "from xgboost import XGBClassifier\n",
    "from sklearn.neighbors import KNeighborsClassifier\n",
    "from sklearn.metrics import precision_score, recall_score, f1_score, log_loss, accuracy_score\n",
    "\n",
    "# Define models\n",
    "models = {\n",
    "    'Logistic Regression': LogisticRegression(random_state=42),\n",
    "    'K-Nearest Neighbors': KNeighborsClassifier(),\n",
    "    'Support Vector Classifier': svm.SVC(random_state=42), \n",
    "    'Decision Tree': DecisionTreeClassifier(max_depth=1, random_state=42),\n",
    "    'Random Forest': RandomForestClassifier(random_state=42),\n",
    "    'XGBoost': XGBClassifier(random_state=42),\n",
    "    'Naive Bayes': GaussianNB()\n",
    "}\n",
    "\n",
    "# Evaluation metrics function\n",
    "def evaluate_model(y_true, y_pred, return_results=False):\n",
    "    precision = precision_score(y_true, y_pred, average='binary', zero_division=1)\n",
    "    recall = recall_score(y_true, y_pred, average='binary', zero_division=1)\n",
    "    f1 = f1_score(y_true, y_pred, average='binary', zero_division=1)\n",
    "    try:\n",
    "        loss_value = log_loss(y_true, y_pred)\n",
    "    except ValueError:\n",
    "        loss_value = None  # log_loss may fail if predictions are not probabilities\n",
    "    accuracy = accuracy_score(y_true, y_pred)\n",
    "    \n",
    "    if return_results:\n",
    "        return precision, recall, f1, loss_value, accuracy\n",
    "    else:\n",
    "        print(f'  Precision: {precision:.3f}')\n",
    "        print(f'  Recall: {recall:.3f}')\n",
    "        print(f'  F1 Score: {f1:.3f}')\n",
    "        print(f'  Log Loss: {loss_value if loss_value is not None else \"N/A\":.3f}')\n",
    "        print(f'  Accuracy: {accuracy:.3f}')\n",
    "\n",
    "# Training and evaluation function\n",
    "def train_and_evaluate(models, X, y):\n",
    "    for name, model in models.items():\n",
    "        print(f'{name}:')\n",
    "        model.fit(X, y)\n",
    "        y_pred = model.predict(X)\n",
    "        evaluate_model(y, y_pred)\n",
    "        print('-' * 30)\n",
    "\n",
    "# Train and evaluate the models\n",
    "train_and_evaluate(models, X_train, y_train)\n"
   ]
  },
  {
   "cell_type": "code",
   "execution_count": null,
   "id": "46933d0e-e607-4f42-8e56-7239c7505498",
   "metadata": {},
   "outputs": [],
   "source": [
    "#Feature Engineer:"
   ]
  },
  {
   "cell_type": "code",
   "execution_count": null,
   "id": "4bd9ac15-f268-4223-ab01-b813d5d2ee35",
   "metadata": {},
   "outputs": [],
   "source": [
    "import pandas as pd\n",
    "import seaborn as sns\n",
    "import matplotlib.pyplot as plt\n",
    "\n",
    "# Assuming X_train and y_train are numpy arrays\n",
    "X_train_df = pd.DataFrame(X_train)  # Convert X_train to a DataFrame\n",
    "y_train_series = pd.Series(y_train)  # Convert y_train to a Series\n",
    "\n",
    "# Concatenate the DataFrame (X_train) and Series (y_train)\n",
    "data_corr = pd.concat([X_train_df, y_train_series], axis=1)\n",
    "\n",
    "# Compute correlation matrix\n",
    "corr = data_corr.corr()\n",
    "\n",
    "# Plot heatmap\n",
    "plt.figure(figsize=(10,7))\n",
    "sns.heatmap(corr, annot=True, cmap=\"coolwarm\", fmt='.2f', linewidths=0.5)\n",
    "plt.show()"
   ]
  },
  {
   "cell_type": "code",
   "execution_count": null,
   "id": "24c9adae-0dd7-4519-b777-33b3263ae0c1",
   "metadata": {},
   "outputs": [],
   "source": [
    "# ooh, we got it right for most of the features, as you can see we've say at the first of the kernel ,\n",
    "# that Credit_Histroy and Married etc, are good features, actually Credit_Histroy is the best .\n",
    "\n",
    "data_corr = pd.concat([X_train, y_train], axis=1)\n",
    "corr = data_corr.corr()\n",
    "plt.figure(figsize=(10,7))\n",
    "sns.heatmap(corr, annot=True)\n",
    "\n",
    "# here we got 58% similarity between LoanAmount & ApplicantIncome \n",
    "# and that may be bad for our model so we will see what we can do"
   ]
  },
  {
   "cell_type": "code",
   "execution_count": null,
   "id": "935bb9c8-9d0d-4b6b-9b77-173b3c2369e2",
   "metadata": {},
   "outputs": [],
   "source": [
    "import pandas as pd\n",
    "import seaborn as sns\n",
    "import matplotlib.pyplot as plt\n",
    "\n",
    "# Assuming X_train and y_train are numpy arrays\n",
    "X_train_df = pd.DataFrame(X_train)  # Convert X_train to a DataFrame\n",
    "y_train_series = pd.Series(y_train)  # Convert y_train to a Series\n",
    "\n",
    "# Concatenate the DataFrame (X_train) and Series (y_train)\n",
    "data_corr = pd.concat([X_train_df, y_train_series], axis=1)\n",
    "\n",
    "# Compute correlation matrix\n",
    "corr = data_corr.corr()\n",
    "\n",
    "# Plot heatmap\n",
    "plt.figure(figsize=(10,7))\n",
    "sns.heatmap(corr, annot=True, cmap=\"coolwarm\", fmt='.2f', linewidths=0.5)\n",
    "plt.show()\n"
   ]
  },
  {
   "cell_type": "code",
   "execution_count": null,
   "id": "5cf8b502-a812-456c-9559-59e6e0020f69",
   "metadata": {},
   "outputs": [],
   "source": [
    "X_train.shape"
   ]
  },
  {
   "cell_type": "code",
   "execution_count": null,
   "id": "888f42bd-6c8c-4e06-b0e3-2392c781c5ad",
   "metadata": {},
   "outputs": [],
   "source": [
    "# I will try to make some operations on some features, here I just tried diffrent operations on diffrent features,\n",
    "# having experience in the field, and having knowledge about the data will also help\n",
    "\n",
    "X_train['new_col'] = X_train['CoapplicantIncome'] / X_train['ApplicantIncome']  \n",
    "X_train['new_col_2'] = X_train['LoanAmount'] * X_train['Loan_Amount_Term'] "
   ]
  },
  {
   "cell_type": "code",
   "execution_count": null,
   "id": "f3abcfd7-85a2-457e-b1c2-191803197372",
   "metadata": {},
   "outputs": [],
   "source": [
    "# Compute the correlation matrix\n",
    "corr = df.corr()\n",
    "\n",
    "# Style the correlation table with a color gradient\n",
    "styled_corr = corr.style.background_gradient(cmap='coolwarm').format(\"{:.2f}\")\n",
    "\n",
    "# Display the styled table\n",
    "styled_corr\n"
   ]
  },
  {
   "cell_type": "code",
   "execution_count": null,
   "id": "25364954-1b74-4874-ad74-e0b3eb3bbd09",
   "metadata": {},
   "outputs": [],
   "source": [
    "import pandas as pd\n",
    "import seaborn as sns\n",
    "import matplotlib.pyplot as plt\n",
    "\n",
    "# Ensure X_train and y_train are pandas objects\n",
    "if isinstance(X_train, pd.DataFrame) is False:\n",
    "    X_train = pd.DataFrame(X_train)\n",
    "if isinstance(y_train, pd.Series) is False:\n",
    "    y_train = pd.Series(y_train, name='Target')  # Give a name to the target column for better readability\n",
    "\n",
    "# Concatenate X_train and y_train\n",
    "data_corr = pd.concat([X_train, y_train], axis=1)\n",
    "\n",
    "# Compute correlation matrix\n",
    "corr = data_corr.corr()\n",
    "\n",
    "# Plot heatmap\n",
    "plt.figure(figsize=(10, 7))\n",
    "sns.heatmap(corr, annot=True, cmap=\"coolwarm\", fmt=\".2f\", linewidths=0.5)\n",
    "plt.title(\"Correlation Matrix\")\n",
    "plt.show()\n",
    "\n",
    "# Compute correlation matrix\n",
    "corr = df.corr()\n",
    "\n",
    "# Style the correlation matrix\n",
    "corr.style.background_gradient(cmap='coolwarm').format(precision=2)\n"
   ]
  },
  {
   "cell_type": "code",
   "execution_count": null,
   "id": "ecc5a520-9e99-4f14-b410-038b58998271",
   "metadata": {},
   "outputs": [],
   "source": [
    "sns.boxplot(X_train['new_col_2']);\n",
    "plt.title('new_col_2 outliers', fontsize=15);\n",
    "plt.xlabel('');"
   ]
  },
  {
   "cell_type": "code",
   "execution_count": null,
   "id": "3f296684-a3ca-4836-8b7a-5bc613802dc8",
   "metadata": {},
   "outputs": [],
   "source": [
    "# new_col\n",
    "\n",
    "# most of our data is 0 , so we will try to change other values to 1\n",
    "\n",
    "print('before:')\n",
    "print(X_train['new_col'].value_counts())\n",
    "\n",
    "X_train['new_col'] = [x if x==0 else 1 for x in X_train['new_col']]\n",
    "print('-'*50)\n",
    "print('\\nafter:')\n",
    "print(X_train['new_col'].value_counts())\n"
   ]
  },
  {
   "cell_type": "code",
   "execution_count": null,
   "id": "db25fe0a-3d29-4703-ab58-62e1e7708bc6",
   "metadata": {},
   "outputs": [],
   "source": []
  },
  {
   "cell_type": "code",
   "execution_count": null,
   "id": "433c022c-deb3-4d02-9f6d-9ed910af0ba3",
   "metadata": {},
   "outputs": [],
   "source": [
    "# I will try to make some operations on some features, here I just tried diffrent operations on diffrent features,\n",
    "# having experience in the field, and having knowledge about the data will also help\n",
    "\n",
    "X_train['new_col'] = X_train['CoapplicantIncome'] / X_train['ApplicantIncome']  \n",
    "X_train['new_col_2'] = X_train['LoanAmount'] * X_train['Loan_Amount_Term'] "
   ]
  },
  {
   "cell_type": "code",
   "execution_count": null,
   "id": "67ea96ed-f9db-4486-b261-f483c9ebf0a9",
   "metadata": {},
   "outputs": [],
   "source": [
    "data_corr = pd.concat([X_train, y_train], axis=1)\n",
    "corr = data_corr.corr()\n",
    "plt.figure(figsize=(10,7))\n",
    "sns.heatmap(corr, annot=True);\n"
   ]
  },
  {
   "cell_type": "code",
   "execution_count": null,
   "id": "d605261a-9cfc-4b64-9902-31ee23580d1e",
   "metadata": {},
   "outputs": [],
   "source": []
  },
  {
   "cell_type": "code",
   "execution_count": null,
   "id": "7b4bd333-6fe1-42b1-8e6d-c899b503f58d",
   "metadata": {},
   "outputs": [],
   "source": [
    "# Compute correlation matrix\n",
    "corr = df.corr()\n",
    "\n",
    "corr.style.background_gradient(cmap='coolwarm').format(precision=2)"
   ]
  },
  {
   "cell_type": "code",
   "execution_count": null,
   "id": "abd90361-ba31-43c5-a577-ff7fa35dfa69",
   "metadata": {},
   "outputs": [],
   "source": [
    "from imblearn.over_sampling import RandomOverSampler\n",
    "oversample = RandomOverSampler(random_state = 42)\n",
    "X_resampled, y_resampled = oversample.fit_resample(X,y)\n",
    "df_resampled = pd.concat([pd.DataFrame(X_resampled,columns = X.columns),pd.Series(y_resampled, name = 'Loan_Status')], axis = 1)\n"
   ]
  }
 ],
 "metadata": {
  "kernelspec": {
   "display_name": "Python 3 (ipykernel)",
   "language": "python",
   "name": "python3"
  },
  "language_info": {
   "codemirror_mode": {
    "name": "ipython",
    "version": 3
   },
   "file_extension": ".py",
   "mimetype": "text/x-python",
   "name": "python",
   "nbconvert_exporter": "python",
   "pygments_lexer": "ipython3",
   "version": "3.11.7"
  }
 },
 "nbformat": 4,
 "nbformat_minor": 5
}
